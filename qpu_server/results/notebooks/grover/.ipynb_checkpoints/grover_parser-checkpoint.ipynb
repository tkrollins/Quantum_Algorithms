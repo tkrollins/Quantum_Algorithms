{
 "cells": [
  {
   "cell_type": "markdown",
   "metadata": {},
   "source": [
    "# Parsing Grover files from QPU"
   ]
  },
  {
   "cell_type": "code",
   "execution_count": 1,
   "metadata": {},
   "outputs": [],
   "source": [
    "# enable importing from parent directory:\n",
    "import sys\n",
    "sys.path.insert(0, '..\\\\')\n",
    "\n",
    "import numpy as np\n",
    "from numpy import array\n",
    "import sys\n",
    "import utils\n",
    "import matplotlib.pyplot as plt\n",
    "from utils import *"
   ]
  },
  {
   "cell_type": "code",
   "execution_count": 2,
   "metadata": {},
   "outputs": [],
   "source": [
    "qvm_time_c = []\n",
    "qvm_time_s = []\n",
    "qvm_accuracy_c = []\n",
    "qvm_accuracy_s = []\n",
    "\n",
    "qpu_time_c = []\n",
    "qpu_time_s = []\n",
    "qpu_accuracy_c = []\n",
    "qpu_accuracy_s = []"
   ]
  },
  {
   "cell_type": "code",
   "execution_count": 3,
   "metadata": {},
   "outputs": [],
   "source": [
    "# reset values before next analysis\n",
    "def clear_vars():\n",
    "    global all_results; all_results = None\n",
    "    global results_raws; results_raws = []\n",
    "    global results; results = None\n",
    "    global times; times = []\n",
    "    global acc_; acc_ = None\n",
    "    global time_; time_ = None\n",
    "    global expected; expected = None\n",
    "    \n",
    "# print accuracies:\n",
    "def print_accuracy(results, should_be=None):\n",
    "    correct = 0\n",
    "    if should_be is not None:\n",
    "        for i in results:\n",
    "            if np.all(i == should_be):\n",
    "                correct += 1\n",
    "    accuracy = correct/len(results) * 100\n",
    "    # print('Accuracy: {}/{} = {}%'.format(correct, len(results), accuracy))\n",
    "    return accuracy"
   ]
  },
  {
   "cell_type": "markdown",
   "metadata": {},
   "source": [
    "## n = 2"
   ]
  },
  {
   "cell_type": "code",
   "execution_count": 4,
   "metadata": {},
   "outputs": [],
   "source": [
    "n = 2"
   ]
  },
  {
   "cell_type": "markdown",
   "metadata": {},
   "source": [
    "### QVM Results"
   ]
  },
  {
   "cell_type": "markdown",
   "metadata": {},
   "source": [
    "##### Complex"
   ]
  },
  {
   "cell_type": "code",
   "execution_count": 5,
   "metadata": {},
   "outputs": [],
   "source": [
    "clear_vars()"
   ]
  },
  {
   "cell_type": "code",
   "execution_count": 6,
   "metadata": {},
   "outputs": [],
   "source": [
    "results_raws = [\n",
    "    {0: array([0, 0, 0, 0]), 1: array([0, 0, 0, 0]), 2: array([0, 0, 0, 0]), 6: array([0, 0, 0, 0]), 7: array([0, 0, 0, 0]), 10: array([0, 0, 0, 0]), 11: array([0, 0, 0, 0]), 13: array([0, 0, 0, 0]), 14: array([0, 0, 0, 0]), 15: array([0, 0, 0, 0]), 16: array([0, 0, 0, 0]), 17: array([0, 0, 0, 0])},\n",
    "]\n",
    "\n",
    "times = [0.11325593999936245]\n",
    "\n",
    "expected = [0 for i in range(n)]"
   ]
  },
  {
   "cell_type": "code",
   "execution_count": 7,
   "metadata": {},
   "outputs": [
    {
     "name": "stdout",
     "output_type": "stream",
     "text": [
      "[[0 0]\n",
      " [0 0]\n",
      " [0 0]\n",
      " [0 0]]\n"
     ]
    }
   ],
   "source": [
    "all_results = None\n",
    "\n",
    "for results_raw in results_raws:\n",
    "    results = getResultsArray(n=n, resultsDict=results_raw, Aspen12Q=False)\n",
    "    # n2_qvm_results2 = getResultsArray(n=2, resultsDict=n2_qvm_results_raw2, Aspen12Q=True)\n",
    "    \n",
    "    if all_results is None:\n",
    "        all_results = results\n",
    "    else:\n",
    "        all_results = np.concatenate((all_results, results), axis=0)\n",
    "        \n",
    "print(all_results)"
   ]
  },
  {
   "cell_type": "code",
   "execution_count": 8,
   "metadata": {},
   "outputs": [],
   "source": [
    "acc_ = print_accuracy(all_results, should_be=expected)"
   ]
  },
  {
   "cell_type": "code",
   "execution_count": 9,
   "metadata": {},
   "outputs": [],
   "source": [
    "time_ = np.average(np.array(times))"
   ]
  },
  {
   "cell_type": "code",
   "execution_count": 10,
   "metadata": {},
   "outputs": [
    {
     "name": "stdout",
     "output_type": "stream",
     "text": [
      "Accuracy: 100.0%, Time: 0.11325593999936245\n"
     ]
    }
   ],
   "source": [
    "print('Accuracy: {}%, Time: {}'.format(acc_, time_))\n",
    "qvm_accuracy_c.append(acc_)\n",
    "qvm_time_c.append(time_)"
   ]
  },
  {
   "cell_type": "markdown",
   "metadata": {},
   "source": [
    "##### Simple"
   ]
  },
  {
   "cell_type": "code",
   "execution_count": 11,
   "metadata": {},
   "outputs": [],
   "source": [
    "clear_vars()"
   ]
  },
  {
   "cell_type": "code",
   "execution_count": 12,
   "metadata": {},
   "outputs": [],
   "source": [
    "results_raws = [\n",
    "    {0: array([1, 1, 1, 1]), 1: array([1, 1, 1, 1]), 2: array([0, 0, 0, 0]), 6: array([0, 0, 0, 0]), 7: array([0, 0, 0, 0]), 10: array([0, 0, 0, 0]), 11: array([0, 0, 0, 0]), 13: array([0, 0, 0, 0]), 14: array([0, 0, 0, 0]), 15: array([0, 0, 0, 0]), 16: array([0, 0, 0, 0]), 17: array([0, 0, 0, 0])},\n",
    "]\n",
    "\n",
    "times = [0.06957769399741665]\n",
    "\n",
    "expected = [1 for i in range(n)]"
   ]
  },
  {
   "cell_type": "code",
   "execution_count": 13,
   "metadata": {},
   "outputs": [
    {
     "name": "stdout",
     "output_type": "stream",
     "text": [
      "[[1 1]\n",
      " [1 1]\n",
      " [1 1]\n",
      " [1 1]]\n"
     ]
    }
   ],
   "source": [
    "all_results = None\n",
    "\n",
    "for results_raw in results_raws:\n",
    "    results = getResultsArray(n=n, resultsDict=results_raw, Aspen12Q=False)\n",
    "    # n2_qvm_results2 = getResultsArray(n=2, resultsDict=n2_qvm_results_raw2, Aspen12Q=True)\n",
    "    \n",
    "    if all_results is None:\n",
    "        all_results = results\n",
    "    else:\n",
    "        all_results = np.concatenate((all_results, results), axis=0)\n",
    "        \n",
    "print(all_results)"
   ]
  },
  {
   "cell_type": "code",
   "execution_count": 14,
   "metadata": {},
   "outputs": [],
   "source": [
    "acc_ = print_accuracy(all_results, should_be=expected)"
   ]
  },
  {
   "cell_type": "code",
   "execution_count": 15,
   "metadata": {},
   "outputs": [],
   "source": [
    "time_ = np.average(np.array(times))"
   ]
  },
  {
   "cell_type": "code",
   "execution_count": 16,
   "metadata": {},
   "outputs": [
    {
     "name": "stdout",
     "output_type": "stream",
     "text": [
      "Accuracy: 100.0%, Time: 0.06957769399741665\n"
     ]
    }
   ],
   "source": [
    "print('Accuracy: {}%, Time: {}'.format(acc_, time_))\n",
    "qvm_accuracy_s.append(acc_)\n",
    "qvm_time_s.append(time_)"
   ]
  },
  {
   "cell_type": "markdown",
   "metadata": {},
   "source": [
    "### QPU Results"
   ]
  },
  {
   "cell_type": "markdown",
   "metadata": {},
   "source": [
    "##### Complex"
   ]
  },
  {
   "cell_type": "code",
   "execution_count": 17,
   "metadata": {},
   "outputs": [],
   "source": [
    "clear_vars()"
   ]
  },
  {
   "cell_type": "code",
   "execution_count": 18,
   "metadata": {},
   "outputs": [],
   "source": [
    "results_raws = [\n",
    "    {0: array([1, 0, 0, 0]), 1: array([0, 0, 0, 0]), 2: array([0, 0, 0, 0]), 6: array([0, 1, 0, 0]), 7: array([0, 0, 0, 0]), 10: array([0, 0, 0, 0]), 11: array([0, 0, 0, 0]), 13: array([0, 0, 0, 0]), 14: array([0, 0, 0, 0]), 15: array([0, 0, 0, 0]), 16: array([0, 0, 0, 0]), 17: array([0, 0, 0, 0])},\n",
    "    {0: array([0, 0, 0, 0, 0, 0, 0, 0]), 1: array([0, 0, 0, 0, 0, 0, 0, 0]), 2: array([0, 0, 0, 0, 0, 0, 0, 0]), 6: array([0, 0, 0, 0, 1, 0, 1, 0]), 7: array([0, 0, 0, 0, 0, 0, 0, 0]), 10: array([0, 0, 0, 0, 0, 0, 0, 0]), 11: array([0, 0, 0, 0, 0, 0, 0, 0]), 13: array([0, 0, 0, 0, 0, 0, 0, 0]), 14: array([0, 0, 0, 0, 0, 0, 0, 0]), 15: array([0, 0, 0, 0, 0, 0, 1, 0]), 16: array([0, 0, 0, 0, 0, 0, 0, 0]), 17: array([0, 0, 0, 0, 0, 0, 0, 0])},\n",
    "]\n",
    "\n",
    "times = [0.18015958700561896, 0.1859017499955371]\n",
    "\n",
    "expected = [0 for i in range(n)]"
   ]
  },
  {
   "cell_type": "code",
   "execution_count": 19,
   "metadata": {},
   "outputs": [
    {
     "name": "stdout",
     "output_type": "stream",
     "text": [
      "[[1 0]\n",
      " [0 0]\n",
      " [0 0]\n",
      " [0 0]\n",
      " [0 0]\n",
      " [0 0]\n",
      " [0 0]\n",
      " [0 0]\n",
      " [0 0]\n",
      " [0 0]\n",
      " [0 0]\n",
      " [0 0]]\n"
     ]
    }
   ],
   "source": [
    "all_results = None\n",
    "\n",
    "for results_raw in results_raws:\n",
    "    results = getResultsArray(n=n, resultsDict=results_raw, Aspen12Q=True)\n",
    "    \n",
    "    if all_results is None:\n",
    "        all_results = results\n",
    "    else:\n",
    "        all_results = np.concatenate((all_results, results), axis=0)\n",
    "        \n",
    "print(all_results)"
   ]
  },
  {
   "cell_type": "code",
   "execution_count": 20,
   "metadata": {},
   "outputs": [],
   "source": [
    "acc_ = print_accuracy(all_results, should_be=expected)"
   ]
  },
  {
   "cell_type": "code",
   "execution_count": 21,
   "metadata": {},
   "outputs": [],
   "source": [
    "time_ = np.average(np.array(times))"
   ]
  },
  {
   "cell_type": "code",
   "execution_count": 22,
   "metadata": {},
   "outputs": [
    {
     "name": "stdout",
     "output_type": "stream",
     "text": [
      "Accuracy: 91.66666666666666%, Time: 0.18303066850057803\n"
     ]
    }
   ],
   "source": [
    "print('Accuracy: {}%, Time: {}'.format(acc_, time_))\n",
    "qpu_accuracy_c.append(acc_)\n",
    "qpu_time_c.append(time_)"
   ]
  },
  {
   "cell_type": "markdown",
   "metadata": {},
   "source": [
    "##### Simple"
   ]
  },
  {
   "cell_type": "code",
   "execution_count": 23,
   "metadata": {},
   "outputs": [],
   "source": [
    "clear_vars()"
   ]
  },
  {
   "cell_type": "code",
   "execution_count": 24,
   "metadata": {},
   "outputs": [],
   "source": [
    "results_raws = [\n",
    "    {0: array([1, 1, 0, 1]), 1: array([1, 1, 0, 0]), 2: array([0, 0, 0, 0]), 6: array([0, 0, 0, 0]), 7: array([0, 0, 0, 0]), 10: array([0, 0, 0, 0]), 11: array([0, 0, 0, 1]), 13: array([0, 0, 0, 0]), 14: array([0, 0, 0, 0]), 15: array([0, 0, 0, 0]), 16: array([0, 0, 0, 0]), 17: array([0, 0, 0, 0])},\n",
    "    {0: array([1, 1, 0, 0, 1, 1, 1, 0]), 1: array([1, 1, 1, 1, 1, 1, 0, 1]), 2: array([0, 0, 0, 0, 0, 0, 0, 0]), 6: array([0, 0, 1, 0, 0, 0, 0, 0]), 7: array([0, 0, 0, 0, 0, 0, 0, 0]), 10: array([0, 0, 0, 0, 0, 0, 0, 0]), 11: array([0, 0, 0, 0, 0, 0, 0, 0]), 13: array([0, 0, 0, 0, 0, 0, 0, 0]), 14: array([0, 0, 0, 0, 0, 0, 0, 0]), 15: array([0, 0, 0, 0, 0, 0, 0, 1]), 16: array([0, 0, 0, 0, 0, 0, 0, 0]), 17: array([0, 0, 0, 0, 0, 0, 0, 0])},\n",
    "]\n",
    "\n",
    "times = [0.18015958700561896, 0.1859017499955371]\n",
    "\n",
    "expected = [1 for i in range(n)]"
   ]
  },
  {
   "cell_type": "code",
   "execution_count": 25,
   "metadata": {},
   "outputs": [
    {
     "name": "stdout",
     "output_type": "stream",
     "text": [
      "[[1 1]\n",
      " [1 1]\n",
      " [0 0]\n",
      " [1 0]\n",
      " [1 1]\n",
      " [1 1]\n",
      " [0 1]\n",
      " [0 1]\n",
      " [1 1]\n",
      " [1 1]\n",
      " [1 0]\n",
      " [0 1]]\n"
     ]
    }
   ],
   "source": [
    "all_results = None\n",
    "\n",
    "for results_raw in results_raws:\n",
    "    results = getResultsArray(n=n, resultsDict=results_raw, Aspen12Q=True)\n",
    "    \n",
    "    if all_results is None:\n",
    "        all_results = results\n",
    "    else:\n",
    "        all_results = np.concatenate((all_results, results), axis=0)\n",
    "        \n",
    "print(all_results)"
   ]
  },
  {
   "cell_type": "code",
   "execution_count": 26,
   "metadata": {},
   "outputs": [],
   "source": [
    "acc_ = print_accuracy(all_results, should_be=expected)"
   ]
  },
  {
   "cell_type": "code",
   "execution_count": 27,
   "metadata": {},
   "outputs": [],
   "source": [
    "time_ = np.average(np.array(times))"
   ]
  },
  {
   "cell_type": "code",
   "execution_count": 28,
   "metadata": {},
   "outputs": [
    {
     "name": "stdout",
     "output_type": "stream",
     "text": [
      "Accuracy: 50.0%, Time: 0.18303066850057803\n"
     ]
    }
   ],
   "source": [
    "print('Accuracy: {}%, Time: {}'.format(acc_, time_))\n",
    "qpu_accuracy_s.append(acc_)\n",
    "qpu_time_s.append(time_)"
   ]
  },
  {
   "cell_type": "markdown",
   "metadata": {},
   "source": [
    "## n = 3"
   ]
  },
  {
   "cell_type": "code",
   "execution_count": 29,
   "metadata": {},
   "outputs": [],
   "source": [
    "n = 3"
   ]
  },
  {
   "cell_type": "markdown",
   "metadata": {},
   "source": [
    "### QVM Results"
   ]
  },
  {
   "cell_type": "markdown",
   "metadata": {},
   "source": [
    "##### Complex"
   ]
  },
  {
   "cell_type": "code",
   "execution_count": 30,
   "metadata": {},
   "outputs": [],
   "source": [
    "clear_vars()"
   ]
  },
  {
   "cell_type": "code",
   "execution_count": 31,
   "metadata": {},
   "outputs": [],
   "source": [
    "results_raws = [\n",
    "    {0: array([0, 0, 1, 0, 1, 0, 0, 0]), 1: array([0, 0, 0, 0, 0, 1, 0, 0]), 2: array([0, 0, 1, 0, 0, 1, 0, 0]), 6: array([0, 0, 0, 0, 0, 0, 0, 0]), 7: array([0, 0, 0, 0, 0, 0, 0, 0]), 10: array([0, 0, 0, 0, 0, 0, 0, 0]), 11: array([0, 0, 0, 0, 0, 0, 0, 0]), 13: array([0, 0, 0, 0, 0, 0, 0, 0]), 14: array([0, 0, 0, 0, 0, 0, 0, 0]), 15: array([0, 0, 0, 0, 0, 0, 0, 0]), 16: array([0, 0, 0, 0, 0, 0, 0, 0]), 17: array([0, 0, 0, 0, 0, 0, 0, 0])}\n",
    "]\n",
    "\n",
    "times = [0.5293448120064568]\n",
    "\n",
    "expected = [0 for i in range(n)]"
   ]
  },
  {
   "cell_type": "code",
   "execution_count": 32,
   "metadata": {},
   "outputs": [
    {
     "name": "stdout",
     "output_type": "stream",
     "text": [
      "[[0 0 0]\n",
      " [0 0 0]\n",
      " [1 0 1]\n",
      " [0 0 0]\n",
      " [1 0 0]\n",
      " [0 1 1]\n",
      " [0 0 0]\n",
      " [0 0 0]]\n"
     ]
    }
   ],
   "source": [
    "all_results = None\n",
    "\n",
    "for results_raw in results_raws:\n",
    "    results = getResultsArray(n=n, resultsDict=results_raw, Aspen12Q=False)\n",
    "    # n2_qvm_results2 = getResultsArray(n=2, resultsDict=n2_qvm_results_raw2, Aspen12Q=True)\n",
    "    \n",
    "    if all_results is None:\n",
    "        all_results = results\n",
    "    else:\n",
    "        all_results = np.concatenate((all_results, results), axis=0)\n",
    "        \n",
    "print(all_results)"
   ]
  },
  {
   "cell_type": "code",
   "execution_count": 33,
   "metadata": {},
   "outputs": [],
   "source": [
    "acc_ = print_accuracy(all_results, should_be=expected)"
   ]
  },
  {
   "cell_type": "code",
   "execution_count": 34,
   "metadata": {},
   "outputs": [],
   "source": [
    "time_ = np.average(np.array(times))"
   ]
  },
  {
   "cell_type": "code",
   "execution_count": 35,
   "metadata": {},
   "outputs": [
    {
     "name": "stdout",
     "output_type": "stream",
     "text": [
      "Accuracy: 62.5%, Time: 0.5293448120064568\n"
     ]
    }
   ],
   "source": [
    "print('Accuracy: {}%, Time: {}'.format(acc_, time_))\n",
    "qvm_accuracy_c.append(acc_)\n",
    "qvm_time_c.append(time_)"
   ]
  },
  {
   "cell_type": "markdown",
   "metadata": {},
   "source": [
    "##### Simple"
   ]
  },
  {
   "cell_type": "code",
   "execution_count": 36,
   "metadata": {},
   "outputs": [],
   "source": [
    "clear_vars()"
   ]
  },
  {
   "cell_type": "code",
   "execution_count": 37,
   "metadata": {},
   "outputs": [],
   "source": [
    "results_raws = [\n",
    "    {0: array([0, 1, 1, 1, 1, 1, 1, 1]), 1: array([1, 1, 1, 1, 1, 1, 1, 1]), 2: array([0, 1, 1, 1, 1, 1, 1, 1]), 6: array([0, 0, 0, 0, 0, 0, 0, 0]), 7: array([0, 0, 0, 0, 0, 0, 0, 0]), 10: array([0, 0, 0, 0, 0, 0, 0, 0]), 11: array([0, 0, 0, 0, 0, 0, 0, 0]), 13: array([0, 0, 0, 0, 0, 0, 0, 0]), 14: array([0, 0, 0, 0, 0, 0, 0, 0]), 15: array([0, 0, 0, 0, 0, 0, 0, 0]), 16: array([0, 0, 0, 0, 0, 0, 0, 0]), 17: array([0, 0, 0, 0, 0, 0, 0, 0])}\n",
    "]\n",
    "\n",
    "times = [0.5339282870118041]\n",
    "\n",
    "expected = [1 for i in range(n)]"
   ]
  },
  {
   "cell_type": "code",
   "execution_count": 38,
   "metadata": {},
   "outputs": [
    {
     "name": "stdout",
     "output_type": "stream",
     "text": [
      "[[0 1 0]\n",
      " [1 1 1]\n",
      " [1 1 1]\n",
      " [1 1 1]\n",
      " [1 1 1]\n",
      " [1 1 1]\n",
      " [1 1 1]\n",
      " [1 1 1]]\n"
     ]
    }
   ],
   "source": [
    "all_results = None\n",
    "\n",
    "for results_raw in results_raws:\n",
    "    results = getResultsArray(n=n, resultsDict=results_raw, Aspen12Q=False)\n",
    "    \n",
    "    if all_results is None:\n",
    "        all_results = results\n",
    "    else:\n",
    "        all_results = np.concatenate((all_results, results), axis=0)\n",
    "        \n",
    "print(all_results)"
   ]
  },
  {
   "cell_type": "code",
   "execution_count": 39,
   "metadata": {},
   "outputs": [],
   "source": [
    "acc_ = print_accuracy(all_results, should_be=expected)"
   ]
  },
  {
   "cell_type": "code",
   "execution_count": 40,
   "metadata": {},
   "outputs": [],
   "source": [
    "time_ = np.average(np.array(times))"
   ]
  },
  {
   "cell_type": "code",
   "execution_count": 41,
   "metadata": {},
   "outputs": [
    {
     "name": "stdout",
     "output_type": "stream",
     "text": [
      "Accuracy: 87.5%, Time: 0.5339282870118041\n"
     ]
    }
   ],
   "source": [
    "print('Accuracy: {}%, Time: {}'.format(acc_, time_))\n",
    "qvm_accuracy_s.append(acc_)\n",
    "qvm_time_s.append(time_)"
   ]
  },
  {
   "cell_type": "markdown",
   "metadata": {},
   "source": [
    "### QPU Results"
   ]
  },
  {
   "cell_type": "markdown",
   "metadata": {},
   "source": [
    "##### Complex"
   ]
  },
  {
   "cell_type": "code",
   "execution_count": 42,
   "metadata": {},
   "outputs": [],
   "source": [
    "clear_vars()"
   ]
  },
  {
   "cell_type": "code",
   "execution_count": 43,
   "metadata": {},
   "outputs": [],
   "source": [
    "results_raws = [\n",
    "    {0: array([0, 0, 1, 1, 1, 0, 1, 1]), 1: array([0, 0, 1, 0, 1, 0, 0, 0]), 2: array([0, 1, 1, 0, 1, 1, 1, 0]), 6: array([0, 0, 1, 0, 0, 0, 1, 0]), 7: array([0, 0, 0, 0, 0, 0, 0, 1]), 10: array([0, 1, 0, 0, 0, 1, 0, 1]), 11: array([0, 0, 0, 0, 0, 0, 0, 0]), 13: array([0, 0, 0, 0, 0, 0, 0, 0]), 14: array([0, 1, 1, 1, 1, 0, 1, 1]), 15: array([0, 0, 0, 0, 0, 0, 0, 0]), 16: array([0, 0, 0, 0, 0, 0, 0, 0]), 17: array([0, 0, 0, 0, 0, 0, 0, 0])},\n",
    "    {0: array([1, 0, 1, 1, 0, 1, 0, 1, 0, 0, 1, 0, 1, 0, 0, 0]), 1: array([1, 0, 1, 0, 0, 0, 0, 0, 1, 0, 0, 1, 0, 0, 1, 1]), 2: array([0, 0, 1, 1, 1, 1, 0, 1, 1, 0, 1, 0, 0, 0, 0, 1]), 6: array([0, 0, 0, 0, 0, 0, 0, 0, 0, 0, 0, 0, 0, 0, 0, 0]), 7: array([0, 0, 0, 0, 0, 0, 0, 0, 0, 0, 0, 1, 0, 0, 1, 0]), 10: array([1, 1, 1, 0, 0, 0, 1, 1, 0, 1, 0, 0, 1, 0, 1, 0]), 11: array([0, 0, 0, 0, 0, 0, 0, 0, 0, 0, 0, 0, 0, 0, 0, 0]), 13: array([0, 0, 0, 0, 0, 0, 0, 0, 0, 0, 0, 0, 0, 0, 0, 0]), 14: array([0, 0, 0, 0, 0, 1, 0, 1, 1, 1, 0, 1, 0, 0, 0, 0]), 15: array([0, 0, 0, 0, 0, 0, 1, 0, 0, 0, 0, 0, 0, 0, 0, 0]), 16: array([0, 0, 0, 0, 0, 0, 0, 0, 0, 0, 0, 0, 0, 0, 1, 0]), 17: array([0, 0, 0, 0, 0, 0, 0, 0, 0, 0, 0, 0, 0, 0, 0, 0])}\n",
    "]\n",
    "\n",
    "times = [0.4823024829966016, 0.5027842469862662]\n",
    "\n",
    "expected = [0 for i in range(n)]"
   ]
  },
  {
   "cell_type": "code",
   "execution_count": 44,
   "metadata": {},
   "outputs": [
    {
     "name": "stdout",
     "output_type": "stream",
     "text": [
      "[[0 0 0]\n",
      " [0 0 1]\n",
      " [1 1 1]\n",
      " [1 0 0]\n",
      " [1 1 1]\n",
      " [0 0 1]\n",
      " [1 0 1]\n",
      " [1 0 0]\n",
      " [1 1 0]\n",
      " [0 0 0]\n",
      " [1 1 1]\n",
      " [1 0 1]\n",
      " [0 0 1]\n",
      " [1 0 1]\n",
      " [0 0 0]\n",
      " [1 0 1]\n",
      " [0 1 1]\n",
      " [0 0 0]\n",
      " [1 0 1]\n",
      " [0 1 0]\n",
      " [1 0 0]\n",
      " [0 0 0]\n",
      " [0 1 0]\n",
      " [0 1 1]]\n"
     ]
    }
   ],
   "source": [
    "all_results = None\n",
    "\n",
    "for results_raw in results_raws:\n",
    "    results = getResultsArray(n=n, resultsDict=results_raw, Aspen12Q=True)\n",
    "    \n",
    "    if all_results is None:\n",
    "        all_results = results\n",
    "    else:\n",
    "        all_results = np.concatenate((all_results, results), axis=0)\n",
    "        \n",
    "print(all_results)"
   ]
  },
  {
   "cell_type": "code",
   "execution_count": 45,
   "metadata": {},
   "outputs": [],
   "source": [
    "acc_ = print_accuracy(all_results, should_be=expected)"
   ]
  },
  {
   "cell_type": "code",
   "execution_count": 46,
   "metadata": {},
   "outputs": [],
   "source": [
    "time_ = np.average(np.array(times))"
   ]
  },
  {
   "cell_type": "code",
   "execution_count": 47,
   "metadata": {},
   "outputs": [
    {
     "name": "stdout",
     "output_type": "stream",
     "text": [
      "Accuracy: 20.833333333333336%, Time: 0.4925433649914339\n"
     ]
    }
   ],
   "source": [
    "print('Accuracy: {}%, Time: {}'.format(acc_, time_))\n",
    "qpu_accuracy_c.append(acc_)\n",
    "qpu_time_c.append(time_)"
   ]
  },
  {
   "cell_type": "markdown",
   "metadata": {},
   "source": [
    "##### Simple"
   ]
  },
  {
   "cell_type": "code",
   "execution_count": 55,
   "metadata": {},
   "outputs": [],
   "source": [
    "clear_vars()"
   ]
  },
  {
   "cell_type": "code",
   "execution_count": 56,
   "metadata": {},
   "outputs": [],
   "source": [
    "results_raws = [\n",
    "    {0: array([0, 1, 0, 0, 0, 0, 1, 0]), 1: array([1, 0, 1, 0, 1, 1, 0, 1]), 2: array([1, 0, 0, 0, 0, 1, 0, 1]), 6: array([1, 0, 0, 1, 0, 0, 0, 0]), 7: array([0, 0, 0, 0, 0, 0, 0, 0]), 10: array([0, 0, 0, 0, 1, 1, 1, 0]), 11: array([0, 0, 0, 0, 0, 0, 0, 0]), 13: array([0, 0, 0, 0, 0, 0, 0, 0]), 14: array([0, 1, 1, 0, 1, 0, 0, 0]), 15: array([0, 0, 0, 0, 0, 0, 0, 0]), 16: array([0, 0, 0, 0, 0, 0, 0, 0]), 17: array([0, 0, 0, 0, 0, 0, 0, 0])},\n",
    "    {0: array([1, 1, 1, 1, 1, 1, 0, 0, 0, 0, 1, 1, 0, 1, 1, 1]), 1: array([0, 0, 0, 0, 0, 1, 1, 1, 1, 0, 1, 0, 1, 1, 1, 1]), 2: array([0, 1, 0, 1, 0, 0, 0, 0, 1, 1, 1, 0, 0, 0, 0, 0]), 6: array([0, 0, 0, 0, 0, 0, 0, 0, 1, 0, 0, 0, 0, 0, 0, 0]), 7: array([0, 0, 0, 0, 0, 1, 0, 0, 0, 0, 0, 1, 0, 0, 0, 0]), 10: array([0, 0, 0, 0, 0, 0, 0, 0, 1, 1, 0, 0, 0, 0, 0, 0]), 11: array([0, 0, 0, 0, 0, 0, 0, 0, 0, 0, 0, 0, 0, 0, 0, 0]), 13: array([0, 0, 0, 0, 0, 0, 0, 0, 0, 0, 0, 0, 0, 0, 0, 0]), 14: array([0, 0, 0, 0, 1, 0, 0, 0, 1, 0, 1, 1, 0, 1, 1, 1]), 15: array([0, 0, 0, 0, 0, 1, 0, 0, 0, 0, 0, 0, 0, 0, 0, 0]), 16: array([0, 0, 0, 0, 0, 0, 0, 0, 0, 0, 0, 0, 0, 0, 0, 0]), 17: array([0, 0, 0, 0, 0, 0, 0, 0, 0, 0, 0, 0, 0, 0, 0, 0])}\n",
    "]\n",
    "\n",
    "times = [0.49739786999998614, 0.4745767840067856]\n",
    "\n",
    "expected = [1 for i in range(n)]"
   ]
  },
  {
   "cell_type": "code",
   "execution_count": 61,
   "metadata": {},
   "outputs": [
    {
     "name": "stdout",
     "output_type": "stream",
     "text": [
      "[[0 1 1]\n",
      " [1 0 0]\n",
      " [0 1 0]\n",
      " [0 0 0]\n",
      " [0 1 0]\n",
      " [0 1 1]\n",
      " [1 0 0]\n",
      " [0 1 1]\n",
      " [1 0 0]\n",
      " [1 0 1]\n",
      " [1 0 0]\n",
      " [1 0 1]\n",
      " [1 0 0]\n",
      " [1 1 0]\n",
      " [0 1 0]\n",
      " [0 1 0]\n",
      " [0 1 1]\n",
      " [0 0 1]\n",
      " [1 1 1]\n",
      " [1 0 0]\n",
      " [0 1 0]\n",
      " [1 1 0]\n",
      " [1 1 0]\n",
      " [1 1 0]]\n",
      "24\n"
     ]
    }
   ],
   "source": [
    "all_results = None\n",
    "\n",
    "for results_raw in results_raws:\n",
    "    results = getResultsArray(n=n, resultsDict=results_raw, Aspen12Q=True)\n",
    "    \n",
    "    if all_results is None:\n",
    "        all_results = results\n",
    "    else:\n",
    "        all_results = np.concatenate((all_results, results), axis=0)\n",
    "        \n",
    "print(all_results)"
   ]
  },
  {
   "cell_type": "code",
   "execution_count": 58,
   "metadata": {},
   "outputs": [],
   "source": [
    "acc_ = print_accuracy(all_results, should_be=expected)"
   ]
  },
  {
   "cell_type": "code",
   "execution_count": 59,
   "metadata": {},
   "outputs": [],
   "source": [
    "time_ = np.average(np.array(times))"
   ]
  },
  {
   "cell_type": "code",
   "execution_count": 60,
   "metadata": {},
   "outputs": [
    {
     "name": "stdout",
     "output_type": "stream",
     "text": [
      "Accuracy: 4.166666666666666%, Time: 0.48598732700338587\n"
     ]
    }
   ],
   "source": [
    "print('Accuracy: {}%, Time: {}'.format(acc_, time_))\n",
    "qpu_accuracy_s.append(acc_)\n",
    "qpu_time_s.append(time_)"
   ]
  },
  {
   "cell_type": "markdown",
   "metadata": {},
   "source": [
    "## n = 4"
   ]
  },
  {
   "cell_type": "markdown",
   "metadata": {},
   "source": [
    "### QVM Results"
   ]
  },
  {
   "cell_type": "code",
   "execution_count": null,
   "metadata": {},
   "outputs": [],
   "source": []
  },
  {
   "cell_type": "markdown",
   "metadata": {},
   "source": [
    "### QPU Results"
   ]
  },
  {
   "cell_type": "code",
   "execution_count": null,
   "metadata": {},
   "outputs": [],
   "source": []
  },
  {
   "cell_type": "markdown",
   "metadata": {},
   "source": [
    "## n = 5"
   ]
  },
  {
   "cell_type": "markdown",
   "metadata": {},
   "source": [
    "### QVM Results"
   ]
  },
  {
   "cell_type": "code",
   "execution_count": null,
   "metadata": {},
   "outputs": [],
   "source": []
  },
  {
   "cell_type": "markdown",
   "metadata": {},
   "source": [
    "### QPU Results"
   ]
  },
  {
   "cell_type": "code",
   "execution_count": null,
   "metadata": {},
   "outputs": [],
   "source": []
  },
  {
   "cell_type": "markdown",
   "metadata": {},
   "source": [
    "## n = 6"
   ]
  },
  {
   "cell_type": "markdown",
   "metadata": {},
   "source": [
    "### QVM Results"
   ]
  },
  {
   "cell_type": "code",
   "execution_count": null,
   "metadata": {},
   "outputs": [],
   "source": []
  },
  {
   "cell_type": "markdown",
   "metadata": {},
   "source": [
    "### QPU Results"
   ]
  },
  {
   "cell_type": "code",
   "execution_count": null,
   "metadata": {},
   "outputs": [],
   "source": []
  }
 ],
 "metadata": {
  "kernelspec": {
   "display_name": "Python 3",
   "language": "python",
   "name": "python3"
  },
  "language_info": {
   "codemirror_mode": {
    "name": "ipython",
    "version": 3
   },
   "file_extension": ".py",
   "mimetype": "text/x-python",
   "name": "python",
   "nbconvert_exporter": "python",
   "pygments_lexer": "ipython3",
   "version": "3.5.4"
  }
 },
 "nbformat": 4,
 "nbformat_minor": 2
}
