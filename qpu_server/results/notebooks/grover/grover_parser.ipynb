{
 "cells": [
  {
   "cell_type": "markdown",
   "metadata": {},
   "source": [
    "# Parsing Grover files from QPU"
   ]
  },
  {
   "cell_type": "code",
   "execution_count": 1,
   "metadata": {},
   "outputs": [],
   "source": [
    "# enable importing from parent directory:\n",
    "import sys\n",
    "sys.path.insert(0, '..\\\\')\n",
    "\n",
    "import numpy as np\n",
    "from numpy import array\n",
    "import sys\n",
    "import utils\n",
    "import matplotlib.pyplot as plt\n",
    "from utils import *"
   ]
  },
  {
   "cell_type": "code",
   "execution_count": 2,
   "metadata": {},
   "outputs": [],
   "source": [
    "qvm_time_c = []\n",
    "qvm_time_s = []\n",
    "qvm_accuracy_c = []\n",
    "qvm_accuracy_s = []\n",
    "\n",
    "qpu_time_c = []\n",
    "qpu_time_s = []\n",
    "qpu_accuracy_c = []\n",
    "qpu_accuracy_s = []"
   ]
  },
  {
   "cell_type": "code",
   "execution_count": 3,
   "metadata": {},
   "outputs": [],
   "source": [
    "# reset values before next analysis\n",
    "def clear_vars():\n",
    "    global all_results; all_results = None\n",
    "    global results_raws; results_raws = []\n",
    "    global results; results = None\n",
    "    global times; times = []\n",
    "    global acc_; acc_ = None\n",
    "    global time_; time_ = None\n",
    "    global expected; expected = None\n",
    "    \n",
    "# print accuracies:\n",
    "def print_accuracy(results, should_be=None):\n",
    "    correct = 0\n",
    "    if should_be is not None:\n",
    "        for i in results:\n",
    "            if np.all(i == should_be):\n",
    "                correct += 1\n",
    "    accuracy = correct/len(results) * 100\n",
    "    print('Accuracy: {}/{} = {}%'.format(correct, len(results), accuracy))\n",
    "    \n",
    "    # determine most 'prominent' answer:\n",
    "    unq_rows, count = np.unique(results, axis=0, return_counts=1)\n",
    "    print('Most prominent: {}'.format(unq_rows[np.argmax(count)]))\n",
    "    return accuracy"
   ]
  },
  {
   "cell_type": "markdown",
   "metadata": {},
   "source": [
    "## n = 2"
   ]
  },
  {
   "cell_type": "code",
   "execution_count": 4,
   "metadata": {},
   "outputs": [],
   "source": [
    "n = 2"
   ]
  },
  {
   "cell_type": "markdown",
   "metadata": {},
   "source": [
    "### QVM Results"
   ]
  },
  {
   "cell_type": "markdown",
   "metadata": {},
   "source": [
    "##### Complex"
   ]
  },
  {
   "cell_type": "code",
   "execution_count": 5,
   "metadata": {},
   "outputs": [],
   "source": [
    "clear_vars()"
   ]
  },
  {
   "cell_type": "code",
   "execution_count": 6,
   "metadata": {},
   "outputs": [],
   "source": [
    "results_raws = [\n",
    "    {0: array([0, 0, 0, 0]), 1: array([0, 0, 0, 0]), 2: array([0, 0, 0, 0]), 6: array([0, 0, 0, 0]), 7: array([0, 0, 0, 0]), 10: array([0, 0, 0, 0]), 11: array([0, 0, 0, 0]), 13: array([0, 0, 0, 0]), 14: array([0, 0, 0, 0]), 15: array([0, 0, 0, 0]), 16: array([0, 0, 0, 0]), 17: array([0, 0, 0, 0])},\n",
    "]\n",
    "\n",
    "times = [0.11325593999936245]\n",
    "\n",
    "expected = [0 for i in range(n)]"
   ]
  },
  {
   "cell_type": "code",
   "execution_count": 7,
   "metadata": {},
   "outputs": [
    {
     "name": "stdout",
     "output_type": "stream",
     "text": [
      "[[0 0]\n",
      " [0 0]\n",
      " [0 0]\n",
      " [0 0]]\n"
     ]
    }
   ],
   "source": [
    "all_results = None\n",
    "\n",
    "for results_raw in results_raws:\n",
    "    results = getResultsArray(n=n, resultsDict=results_raw, Aspen12Q=True)\n",
    "    \n",
    "    if all_results is None:\n",
    "        all_results = results\n",
    "    else:\n",
    "        all_results = np.concatenate((all_results, results), axis=0)\n",
    "        \n",
    "print(all_results)"
   ]
  },
  {
   "cell_type": "code",
   "execution_count": 8,
   "metadata": {},
   "outputs": [
    {
     "name": "stdout",
     "output_type": "stream",
     "text": [
      "Accuracy: 4/4 = 100.0%\n",
      "Most prominent: [0 0]\n"
     ]
    }
   ],
   "source": [
    "acc_ = print_accuracy(all_results, should_be=expected)"
   ]
  },
  {
   "cell_type": "code",
   "execution_count": 9,
   "metadata": {},
   "outputs": [],
   "source": [
    "time_ = np.average(np.array(times))"
   ]
  },
  {
   "cell_type": "code",
   "execution_count": 10,
   "metadata": {},
   "outputs": [
    {
     "name": "stdout",
     "output_type": "stream",
     "text": [
      "Accuracy: 100.0%, Time: 0.11325593999936245\n"
     ]
    }
   ],
   "source": [
    "print('Accuracy: {}%, Time: {}'.format(acc_, time_))\n",
    "qvm_accuracy_c.append(acc_)\n",
    "qvm_time_c.append(time_)"
   ]
  },
  {
   "cell_type": "markdown",
   "metadata": {},
   "source": [
    "##### Simple"
   ]
  },
  {
   "cell_type": "code",
   "execution_count": 11,
   "metadata": {},
   "outputs": [],
   "source": [
    "clear_vars()"
   ]
  },
  {
   "cell_type": "code",
   "execution_count": 12,
   "metadata": {},
   "outputs": [],
   "source": [
    "results_raws = [\n",
    "    {0: array([1, 1, 1, 1]), 1: array([1, 1, 1, 1]), 2: array([0, 0, 0, 0]), 6: array([0, 0, 0, 0]), 7: array([0, 0, 0, 0]), 10: array([0, 0, 0, 0]), 11: array([0, 0, 0, 0]), 13: array([0, 0, 0, 0]), 14: array([0, 0, 0, 0]), 15: array([0, 0, 0, 0]), 16: array([0, 0, 0, 0]), 17: array([0, 0, 0, 0])},\n",
    "]\n",
    "\n",
    "times = [0.06957769399741665]\n",
    "\n",
    "expected = [1 for i in range(n)]"
   ]
  },
  {
   "cell_type": "code",
   "execution_count": 13,
   "metadata": {},
   "outputs": [
    {
     "name": "stdout",
     "output_type": "stream",
     "text": [
      "[[1 1]\n",
      " [1 1]\n",
      " [1 1]\n",
      " [1 1]]\n"
     ]
    }
   ],
   "source": [
    "all_results = None\n",
    "\n",
    "for results_raw in results_raws:\n",
    "    results = getResultsArray(n=n, resultsDict=results_raw, Aspen12Q=True)\n",
    "    \n",
    "    if all_results is None:\n",
    "        all_results = results\n",
    "    else:\n",
    "        all_results = np.concatenate((all_results, results), axis=0)\n",
    "        \n",
    "print(all_results)"
   ]
  },
  {
   "cell_type": "code",
   "execution_count": 14,
   "metadata": {},
   "outputs": [
    {
     "name": "stdout",
     "output_type": "stream",
     "text": [
      "Accuracy: 4/4 = 100.0%\n",
      "Most prominent: [1 1]\n"
     ]
    }
   ],
   "source": [
    "acc_ = print_accuracy(all_results, should_be=expected)"
   ]
  },
  {
   "cell_type": "code",
   "execution_count": 15,
   "metadata": {},
   "outputs": [],
   "source": [
    "time_ = np.average(np.array(times))"
   ]
  },
  {
   "cell_type": "code",
   "execution_count": 16,
   "metadata": {},
   "outputs": [
    {
     "name": "stdout",
     "output_type": "stream",
     "text": [
      "Accuracy: 100.0%, Time: 0.06957769399741665\n"
     ]
    }
   ],
   "source": [
    "print('Accuracy: {}%, Time: {}'.format(acc_, time_))\n",
    "qvm_accuracy_s.append(acc_)\n",
    "qvm_time_s.append(time_)"
   ]
  },
  {
   "cell_type": "markdown",
   "metadata": {},
   "source": [
    "### QPU Results"
   ]
  },
  {
   "cell_type": "markdown",
   "metadata": {},
   "source": [
    "##### Complex"
   ]
  },
  {
   "cell_type": "code",
   "execution_count": 17,
   "metadata": {},
   "outputs": [],
   "source": [
    "clear_vars()"
   ]
  },
  {
   "cell_type": "code",
   "execution_count": 18,
   "metadata": {},
   "outputs": [],
   "source": [
    "results_raws = [\n",
    "    {0: array([1, 0, 0, 0]), 1: array([0, 0, 0, 0]), 2: array([0, 0, 0, 0]), 6: array([0, 1, 0, 0]), 7: array([0, 0, 0, 0]), 10: array([0, 0, 0, 0]), 11: array([0, 0, 0, 0]), 13: array([0, 0, 0, 0]), 14: array([0, 0, 0, 0]), 15: array([0, 0, 0, 0]), 16: array([0, 0, 0, 0]), 17: array([0, 0, 0, 0])},\n",
    "    {0: array([0, 0, 0, 0, 0, 0, 0, 0]), 1: array([0, 0, 0, 0, 0, 0, 0, 0]), 2: array([0, 0, 0, 0, 0, 0, 0, 0]), 6: array([0, 0, 0, 0, 1, 0, 1, 0]), 7: array([0, 0, 0, 0, 0, 0, 0, 0]), 10: array([0, 0, 0, 0, 0, 0, 0, 0]), 11: array([0, 0, 0, 0, 0, 0, 0, 0]), 13: array([0, 0, 0, 0, 0, 0, 0, 0]), 14: array([0, 0, 0, 0, 0, 0, 0, 0]), 15: array([0, 0, 0, 0, 0, 0, 1, 0]), 16: array([0, 0, 0, 0, 0, 0, 0, 0]), 17: array([0, 0, 0, 0, 0, 0, 0, 0])},\n",
    "]\n",
    "\n",
    "times = [0.18015958700561896, 0.1859017499955371]\n",
    "\n",
    "expected = [0 for i in range(n)]"
   ]
  },
  {
   "cell_type": "code",
   "execution_count": 19,
   "metadata": {},
   "outputs": [
    {
     "name": "stdout",
     "output_type": "stream",
     "text": [
      "[[1 0]\n",
      " [0 0]\n",
      " [0 0]\n",
      " [0 0]\n",
      " [0 0]\n",
      " [0 0]\n",
      " [0 0]\n",
      " [0 0]\n",
      " [0 0]\n",
      " [0 0]\n",
      " [0 0]\n",
      " [0 0]]\n"
     ]
    }
   ],
   "source": [
    "all_results = None\n",
    "\n",
    "for results_raw in results_raws:\n",
    "    results = getResultsArray(n=n, resultsDict=results_raw, Aspen12Q=True)\n",
    "    \n",
    "    if all_results is None:\n",
    "        all_results = results\n",
    "    else:\n",
    "        all_results = np.concatenate((all_results, results), axis=0)\n",
    "        \n",
    "print(all_results)"
   ]
  },
  {
   "cell_type": "code",
   "execution_count": 20,
   "metadata": {},
   "outputs": [
    {
     "name": "stdout",
     "output_type": "stream",
     "text": [
      "Accuracy: 11/12 = 91.66666666666666%\n",
      "Most prominent: [0 0]\n"
     ]
    }
   ],
   "source": [
    "acc_ = print_accuracy(all_results, should_be=expected)"
   ]
  },
  {
   "cell_type": "code",
   "execution_count": 21,
   "metadata": {},
   "outputs": [],
   "source": [
    "time_ = np.average(np.array(times))"
   ]
  },
  {
   "cell_type": "code",
   "execution_count": 22,
   "metadata": {},
   "outputs": [
    {
     "name": "stdout",
     "output_type": "stream",
     "text": [
      "Accuracy: 91.66666666666666%, Time: 0.18303066850057803\n"
     ]
    }
   ],
   "source": [
    "print('Accuracy: {}%, Time: {}'.format(acc_, time_))\n",
    "qpu_accuracy_c.append(acc_)\n",
    "qpu_time_c.append(time_)"
   ]
  },
  {
   "cell_type": "markdown",
   "metadata": {},
   "source": [
    "##### Simple"
   ]
  },
  {
   "cell_type": "code",
   "execution_count": 23,
   "metadata": {},
   "outputs": [],
   "source": [
    "clear_vars()"
   ]
  },
  {
   "cell_type": "code",
   "execution_count": 24,
   "metadata": {},
   "outputs": [],
   "source": [
    "results_raws = [\n",
    "    {0: array([1, 1, 0, 1]), 1: array([1, 1, 0, 0]), 2: array([0, 0, 0, 0]), 6: array([0, 0, 0, 0]), 7: array([0, 0, 0, 0]), 10: array([0, 0, 0, 0]), 11: array([0, 0, 0, 1]), 13: array([0, 0, 0, 0]), 14: array([0, 0, 0, 0]), 15: array([0, 0, 0, 0]), 16: array([0, 0, 0, 0]), 17: array([0, 0, 0, 0])},\n",
    "    {0: array([1, 1, 0, 0, 1, 1, 1, 0]), 1: array([1, 1, 1, 1, 1, 1, 0, 1]), 2: array([0, 0, 0, 0, 0, 0, 0, 0]), 6: array([0, 0, 1, 0, 0, 0, 0, 0]), 7: array([0, 0, 0, 0, 0, 0, 0, 0]), 10: array([0, 0, 0, 0, 0, 0, 0, 0]), 11: array([0, 0, 0, 0, 0, 0, 0, 0]), 13: array([0, 0, 0, 0, 0, 0, 0, 0]), 14: array([0, 0, 0, 0, 0, 0, 0, 0]), 15: array([0, 0, 0, 0, 0, 0, 0, 1]), 16: array([0, 0, 0, 0, 0, 0, 0, 0]), 17: array([0, 0, 0, 0, 0, 0, 0, 0])},\n",
    "]\n",
    "\n",
    "times = [0.18015958700561896, 0.1859017499955371]\n",
    "\n",
    "expected = [1 for i in range(n)]"
   ]
  },
  {
   "cell_type": "code",
   "execution_count": 25,
   "metadata": {},
   "outputs": [
    {
     "name": "stdout",
     "output_type": "stream",
     "text": [
      "[[1 1]\n",
      " [1 1]\n",
      " [0 0]\n",
      " [1 0]\n",
      " [1 1]\n",
      " [1 1]\n",
      " [0 1]\n",
      " [0 1]\n",
      " [1 1]\n",
      " [1 1]\n",
      " [1 0]\n",
      " [0 1]]\n"
     ]
    }
   ],
   "source": [
    "all_results = None\n",
    "\n",
    "for results_raw in results_raws:\n",
    "    results = getResultsArray(n=n, resultsDict=results_raw, Aspen12Q=True)\n",
    "    \n",
    "    if all_results is None:\n",
    "        all_results = results\n",
    "    else:\n",
    "        all_results = np.concatenate((all_results, results), axis=0)\n",
    "        \n",
    "print(all_results)"
   ]
  },
  {
   "cell_type": "code",
   "execution_count": 26,
   "metadata": {},
   "outputs": [
    {
     "name": "stdout",
     "output_type": "stream",
     "text": [
      "Accuracy: 6/12 = 50.0%\n",
      "Most prominent: [1 1]\n"
     ]
    }
   ],
   "source": [
    "acc_ = print_accuracy(all_results, should_be=expected)"
   ]
  },
  {
   "cell_type": "code",
   "execution_count": 27,
   "metadata": {},
   "outputs": [],
   "source": [
    "time_ = np.average(np.array(times))"
   ]
  },
  {
   "cell_type": "code",
   "execution_count": 28,
   "metadata": {},
   "outputs": [
    {
     "name": "stdout",
     "output_type": "stream",
     "text": [
      "Accuracy: 50.0%, Time: 0.18303066850057803\n"
     ]
    }
   ],
   "source": [
    "print('Accuracy: {}%, Time: {}'.format(acc_, time_))\n",
    "qpu_accuracy_s.append(acc_)\n",
    "qpu_time_s.append(time_)"
   ]
  },
  {
   "cell_type": "markdown",
   "metadata": {},
   "source": [
    "## n = 3"
   ]
  },
  {
   "cell_type": "code",
   "execution_count": 29,
   "metadata": {},
   "outputs": [],
   "source": [
    "n = 3"
   ]
  },
  {
   "cell_type": "markdown",
   "metadata": {},
   "source": [
    "### QVM Results"
   ]
  },
  {
   "cell_type": "markdown",
   "metadata": {},
   "source": [
    "##### Complex"
   ]
  },
  {
   "cell_type": "code",
   "execution_count": 30,
   "metadata": {},
   "outputs": [],
   "source": [
    "clear_vars()"
   ]
  },
  {
   "cell_type": "code",
   "execution_count": 31,
   "metadata": {},
   "outputs": [],
   "source": [
    "results_raws = [\n",
    "    {0: array([0, 0, 1, 0, 1, 0, 0, 0]), 1: array([0, 0, 0, 0, 0, 1, 0, 0]), 2: array([0, 0, 1, 0, 0, 1, 0, 0]), 6: array([0, 0, 0, 0, 0, 0, 0, 0]), 7: array([0, 0, 0, 0, 0, 0, 0, 0]), 10: array([0, 0, 0, 0, 0, 0, 0, 0]), 11: array([0, 0, 0, 0, 0, 0, 0, 0]), 13: array([0, 0, 0, 0, 0, 0, 0, 0]), 14: array([0, 0, 0, 0, 0, 0, 0, 0]), 15: array([0, 0, 0, 0, 0, 0, 0, 0]), 16: array([0, 0, 0, 0, 0, 0, 0, 0]), 17: array([0, 0, 0, 0, 0, 0, 0, 0])}\n",
    "]\n",
    "\n",
    "times = [0.5293448120064568]\n",
    "\n",
    "expected = [0 for i in range(n)]"
   ]
  },
  {
   "cell_type": "code",
   "execution_count": 32,
   "metadata": {},
   "outputs": [
    {
     "name": "stdout",
     "output_type": "stream",
     "text": [
      "[[0 0 0]\n",
      " [0 0 0]\n",
      " [1 0 1]\n",
      " [0 0 0]\n",
      " [1 0 0]\n",
      " [0 1 1]\n",
      " [0 0 0]\n",
      " [0 0 0]]\n"
     ]
    }
   ],
   "source": [
    "all_results = None\n",
    "\n",
    "for results_raw in results_raws:\n",
    "    results = getResultsArray(n=n, resultsDict=results_raw, Aspen12Q=True)\n",
    "    \n",
    "    if all_results is None:\n",
    "        all_results = results\n",
    "    else:\n",
    "        all_results = np.concatenate((all_results, results), axis=0)\n",
    "        \n",
    "print(all_results)"
   ]
  },
  {
   "cell_type": "code",
   "execution_count": 33,
   "metadata": {},
   "outputs": [
    {
     "name": "stdout",
     "output_type": "stream",
     "text": [
      "Accuracy: 5/8 = 62.5%\n",
      "Most prominent: [0 0 0]\n"
     ]
    }
   ],
   "source": [
    "acc_ = print_accuracy(all_results, should_be=expected)"
   ]
  },
  {
   "cell_type": "code",
   "execution_count": 34,
   "metadata": {},
   "outputs": [],
   "source": [
    "time_ = np.average(np.array(times))"
   ]
  },
  {
   "cell_type": "code",
   "execution_count": 35,
   "metadata": {},
   "outputs": [
    {
     "name": "stdout",
     "output_type": "stream",
     "text": [
      "Accuracy: 62.5%, Time: 0.5293448120064568\n"
     ]
    }
   ],
   "source": [
    "print('Accuracy: {}%, Time: {}'.format(acc_, time_))\n",
    "qvm_accuracy_c.append(acc_)\n",
    "qvm_time_c.append(time_)"
   ]
  },
  {
   "cell_type": "markdown",
   "metadata": {},
   "source": [
    "##### Simple"
   ]
  },
  {
   "cell_type": "code",
   "execution_count": 36,
   "metadata": {},
   "outputs": [],
   "source": [
    "clear_vars()"
   ]
  },
  {
   "cell_type": "code",
   "execution_count": 37,
   "metadata": {},
   "outputs": [],
   "source": [
    "results_raws = [\n",
    "    {0: array([0, 1, 1, 1, 1, 1, 1, 1]), 1: array([1, 1, 1, 1, 1, 1, 1, 1]), 2: array([0, 1, 1, 1, 1, 1, 1, 1]), 6: array([0, 0, 0, 0, 0, 0, 0, 0]), 7: array([0, 0, 0, 0, 0, 0, 0, 0]), 10: array([0, 0, 0, 0, 0, 0, 0, 0]), 11: array([0, 0, 0, 0, 0, 0, 0, 0]), 13: array([0, 0, 0, 0, 0, 0, 0, 0]), 14: array([0, 0, 0, 0, 0, 0, 0, 0]), 15: array([0, 0, 0, 0, 0, 0, 0, 0]), 16: array([0, 0, 0, 0, 0, 0, 0, 0]), 17: array([0, 0, 0, 0, 0, 0, 0, 0])}\n",
    "]\n",
    "\n",
    "times = [0.5339282870118041]\n",
    "\n",
    "expected = [1 for i in range(n)]"
   ]
  },
  {
   "cell_type": "code",
   "execution_count": 38,
   "metadata": {},
   "outputs": [
    {
     "name": "stdout",
     "output_type": "stream",
     "text": [
      "[[0 1 0]\n",
      " [1 1 1]\n",
      " [1 1 1]\n",
      " [1 1 1]\n",
      " [1 1 1]\n",
      " [1 1 1]\n",
      " [1 1 1]\n",
      " [1 1 1]]\n"
     ]
    }
   ],
   "source": [
    "all_results = None\n",
    "\n",
    "for results_raw in results_raws:\n",
    "    results = getResultsArray(n=n, resultsDict=results_raw, Aspen12Q=True)\n",
    "    \n",
    "    if all_results is None:\n",
    "        all_results = results\n",
    "    else:\n",
    "        all_results = np.concatenate((all_results, results), axis=0)\n",
    "        \n",
    "print(all_results)"
   ]
  },
  {
   "cell_type": "code",
   "execution_count": 39,
   "metadata": {},
   "outputs": [
    {
     "name": "stdout",
     "output_type": "stream",
     "text": [
      "Accuracy: 7/8 = 87.5%\n",
      "Most prominent: [1 1 1]\n"
     ]
    }
   ],
   "source": [
    "acc_ = print_accuracy(all_results, should_be=expected)"
   ]
  },
  {
   "cell_type": "code",
   "execution_count": 40,
   "metadata": {},
   "outputs": [],
   "source": [
    "time_ = np.average(np.array(times))"
   ]
  },
  {
   "cell_type": "code",
   "execution_count": 41,
   "metadata": {},
   "outputs": [
    {
     "name": "stdout",
     "output_type": "stream",
     "text": [
      "Accuracy: 87.5%, Time: 0.5339282870118041\n"
     ]
    }
   ],
   "source": [
    "print('Accuracy: {}%, Time: {}'.format(acc_, time_))\n",
    "qvm_accuracy_s.append(acc_)\n",
    "qvm_time_s.append(time_)"
   ]
  },
  {
   "cell_type": "markdown",
   "metadata": {},
   "source": [
    "### QPU Results"
   ]
  },
  {
   "cell_type": "markdown",
   "metadata": {},
   "source": [
    "##### Complex"
   ]
  },
  {
   "cell_type": "code",
   "execution_count": 42,
   "metadata": {},
   "outputs": [],
   "source": [
    "clear_vars()"
   ]
  },
  {
   "cell_type": "code",
   "execution_count": 43,
   "metadata": {},
   "outputs": [],
   "source": [
    "results_raws = [\n",
    "    {0: array([0, 0, 1, 1, 1, 0, 1, 1]), 1: array([0, 0, 1, 0, 1, 0, 0, 0]), 2: array([0, 1, 1, 0, 1, 1, 1, 0]), 6: array([0, 0, 1, 0, 0, 0, 1, 0]), 7: array([0, 0, 0, 0, 0, 0, 0, 1]), 10: array([0, 1, 0, 0, 0, 1, 0, 1]), 11: array([0, 0, 0, 0, 0, 0, 0, 0]), 13: array([0, 0, 0, 0, 0, 0, 0, 0]), 14: array([0, 1, 1, 1, 1, 0, 1, 1]), 15: array([0, 0, 0, 0, 0, 0, 0, 0]), 16: array([0, 0, 0, 0, 0, 0, 0, 0]), 17: array([0, 0, 0, 0, 0, 0, 0, 0])},\n",
    "    {0: array([1, 0, 1, 1, 0, 1, 0, 1, 0, 0, 1, 0, 1, 0, 0, 0]), 1: array([1, 0, 1, 0, 0, 0, 0, 0, 1, 0, 0, 1, 0, 0, 1, 1]), 2: array([0, 0, 1, 1, 1, 1, 0, 1, 1, 0, 1, 0, 0, 0, 0, 1]), 6: array([0, 0, 0, 0, 0, 0, 0, 0, 0, 0, 0, 0, 0, 0, 0, 0]), 7: array([0, 0, 0, 0, 0, 0, 0, 0, 0, 0, 0, 1, 0, 0, 1, 0]), 10: array([1, 1, 1, 0, 0, 0, 1, 1, 0, 1, 0, 0, 1, 0, 1, 0]), 11: array([0, 0, 0, 0, 0, 0, 0, 0, 0, 0, 0, 0, 0, 0, 0, 0]), 13: array([0, 0, 0, 0, 0, 0, 0, 0, 0, 0, 0, 0, 0, 0, 0, 0]), 14: array([0, 0, 0, 0, 0, 1, 0, 1, 1, 1, 0, 1, 0, 0, 0, 0]), 15: array([0, 0, 0, 0, 0, 0, 1, 0, 0, 0, 0, 0, 0, 0, 0, 0]), 16: array([0, 0, 0, 0, 0, 0, 0, 0, 0, 0, 0, 0, 0, 0, 1, 0]), 17: array([0, 0, 0, 0, 0, 0, 0, 0, 0, 0, 0, 0, 0, 0, 0, 0])}\n",
    "]\n",
    "\n",
    "times = [0.4823024829966016, 0.5027842469862662]\n",
    "\n",
    "expected = [0 for i in range(n)]"
   ]
  },
  {
   "cell_type": "code",
   "execution_count": 44,
   "metadata": {},
   "outputs": [
    {
     "name": "stdout",
     "output_type": "stream",
     "text": [
      "[[0 0 0]\n",
      " [0 0 1]\n",
      " [1 1 1]\n",
      " [1 0 0]\n",
      " [1 1 1]\n",
      " [0 0 1]\n",
      " [1 0 1]\n",
      " [1 0 0]\n",
      " [1 1 0]\n",
      " [0 0 0]\n",
      " [1 1 1]\n",
      " [1 0 1]\n",
      " [0 0 1]\n",
      " [1 0 1]\n",
      " [0 0 0]\n",
      " [1 0 1]\n",
      " [0 1 1]\n",
      " [0 0 0]\n",
      " [1 0 1]\n",
      " [0 1 0]\n",
      " [1 0 0]\n",
      " [0 0 0]\n",
      " [0 1 0]\n",
      " [0 1 1]]\n"
     ]
    }
   ],
   "source": [
    "all_results = None\n",
    "\n",
    "for results_raw in results_raws:\n",
    "    results = getResultsArray(n=n, resultsDict=results_raw, Aspen12Q=True)\n",
    "    \n",
    "    if all_results is None:\n",
    "        all_results = results\n",
    "    else:\n",
    "        all_results = np.concatenate((all_results, results), axis=0)\n",
    "        \n",
    "print(all_results)"
   ]
  },
  {
   "cell_type": "code",
   "execution_count": 45,
   "metadata": {},
   "outputs": [
    {
     "name": "stdout",
     "output_type": "stream",
     "text": [
      "Accuracy: 5/24 = 20.833333333333336%\n",
      "Most prominent: [0 0 0]\n"
     ]
    }
   ],
   "source": [
    "acc_ = print_accuracy(all_results, should_be=expected)"
   ]
  },
  {
   "cell_type": "code",
   "execution_count": 46,
   "metadata": {},
   "outputs": [],
   "source": [
    "time_ = np.average(np.array(times))"
   ]
  },
  {
   "cell_type": "code",
   "execution_count": 47,
   "metadata": {},
   "outputs": [
    {
     "name": "stdout",
     "output_type": "stream",
     "text": [
      "Accuracy: 20.833333333333336%, Time: 0.4925433649914339\n"
     ]
    }
   ],
   "source": [
    "print('Accuracy: {}%, Time: {}'.format(acc_, time_))\n",
    "qpu_accuracy_c.append(acc_)\n",
    "qpu_time_c.append(time_)"
   ]
  },
  {
   "cell_type": "markdown",
   "metadata": {},
   "source": [
    "##### Simple"
   ]
  },
  {
   "cell_type": "code",
   "execution_count": 48,
   "metadata": {},
   "outputs": [],
   "source": [
    "clear_vars()"
   ]
  },
  {
   "cell_type": "code",
   "execution_count": 49,
   "metadata": {},
   "outputs": [],
   "source": [
    "results_raws = [\n",
    "    {0: array([0, 1, 0, 0, 0, 0, 1, 0]), 1: array([1, 0, 1, 0, 1, 1, 0, 1]), 2: array([1, 0, 0, 0, 0, 1, 0, 1]), 6: array([1, 0, 0, 1, 0, 0, 0, 0]), 7: array([0, 0, 0, 0, 0, 0, 0, 0]), 10: array([0, 0, 0, 0, 1, 1, 1, 0]), 11: array([0, 0, 0, 0, 0, 0, 0, 0]), 13: array([0, 0, 0, 0, 0, 0, 0, 0]), 14: array([0, 1, 1, 0, 1, 0, 0, 0]), 15: array([0, 0, 0, 0, 0, 0, 0, 0]), 16: array([0, 0, 0, 0, 0, 0, 0, 0]), 17: array([0, 0, 0, 0, 0, 0, 0, 0])},\n",
    "    {0: array([1, 1, 1, 1, 1, 1, 0, 0, 0, 0, 1, 1, 0, 1, 1, 1]), 1: array([0, 0, 0, 0, 0, 1, 1, 1, 1, 0, 1, 0, 1, 1, 1, 1]), 2: array([0, 1, 0, 1, 0, 0, 0, 0, 1, 1, 1, 0, 0, 0, 0, 0]), 6: array([0, 0, 0, 0, 0, 0, 0, 0, 1, 0, 0, 0, 0, 0, 0, 0]), 7: array([0, 0, 0, 0, 0, 1, 0, 0, 0, 0, 0, 1, 0, 0, 0, 0]), 10: array([0, 0, 0, 0, 0, 0, 0, 0, 1, 1, 0, 0, 0, 0, 0, 0]), 11: array([0, 0, 0, 0, 0, 0, 0, 0, 0, 0, 0, 0, 0, 0, 0, 0]), 13: array([0, 0, 0, 0, 0, 0, 0, 0, 0, 0, 0, 0, 0, 0, 0, 0]), 14: array([0, 0, 0, 0, 1, 0, 0, 0, 1, 0, 1, 1, 0, 1, 1, 1]), 15: array([0, 0, 0, 0, 0, 1, 0, 0, 0, 0, 0, 0, 0, 0, 0, 0]), 16: array([0, 0, 0, 0, 0, 0, 0, 0, 0, 0, 0, 0, 0, 0, 0, 0]), 17: array([0, 0, 0, 0, 0, 0, 0, 0, 0, 0, 0, 0, 0, 0, 0, 0])}\n",
    "]\n",
    "\n",
    "times = [0.49739786999998614, 0.4745767840067856]\n",
    "\n",
    "expected = [1 for i in range(n)]"
   ]
  },
  {
   "cell_type": "code",
   "execution_count": 50,
   "metadata": {},
   "outputs": [
    {
     "name": "stdout",
     "output_type": "stream",
     "text": [
      "[[0 1 1]\n",
      " [1 0 0]\n",
      " [0 1 0]\n",
      " [0 0 0]\n",
      " [0 1 0]\n",
      " [0 1 1]\n",
      " [1 0 0]\n",
      " [0 1 1]\n",
      " [1 0 0]\n",
      " [1 0 1]\n",
      " [1 0 0]\n",
      " [1 0 1]\n",
      " [1 0 0]\n",
      " [1 1 0]\n",
      " [0 1 0]\n",
      " [0 1 0]\n",
      " [0 1 1]\n",
      " [0 0 1]\n",
      " [1 1 1]\n",
      " [1 0 0]\n",
      " [0 1 0]\n",
      " [1 1 0]\n",
      " [1 1 0]\n",
      " [1 1 0]]\n"
     ]
    }
   ],
   "source": [
    "all_results = None\n",
    "\n",
    "for results_raw in results_raws:\n",
    "    results = getResultsArray(n=n, resultsDict=results_raw, Aspen12Q=True)\n",
    "    \n",
    "    if all_results is None:\n",
    "        all_results = results\n",
    "    else:\n",
    "        all_results = np.concatenate((all_results, results), axis=0)\n",
    "        \n",
    "print(all_results)"
   ]
  },
  {
   "cell_type": "code",
   "execution_count": 51,
   "metadata": {},
   "outputs": [
    {
     "name": "stdout",
     "output_type": "stream",
     "text": [
      "Accuracy: 1/24 = 4.166666666666666%\n",
      "Most prominent: [1 0 0]\n"
     ]
    }
   ],
   "source": [
    "acc_ = print_accuracy(all_results, should_be=expected)"
   ]
  },
  {
   "cell_type": "code",
   "execution_count": 52,
   "metadata": {},
   "outputs": [],
   "source": [
    "time_ = np.average(np.array(times))"
   ]
  },
  {
   "cell_type": "code",
   "execution_count": 53,
   "metadata": {},
   "outputs": [
    {
     "name": "stdout",
     "output_type": "stream",
     "text": [
      "Accuracy: 4.166666666666666%, Time: 0.48598732700338587\n"
     ]
    }
   ],
   "source": [
    "print('Accuracy: {}%, Time: {}'.format(acc_, time_))\n",
    "qpu_accuracy_s.append(acc_)\n",
    "qpu_time_s.append(time_)"
   ]
  },
  {
   "cell_type": "markdown",
   "metadata": {},
   "source": [
    "## n = 4"
   ]
  },
  {
   "cell_type": "code",
   "execution_count": 54,
   "metadata": {},
   "outputs": [],
   "source": [
    "n = 4"
   ]
  },
  {
   "cell_type": "markdown",
   "metadata": {},
   "source": [
    "### QVM Results"
   ]
  },
  {
   "cell_type": "markdown",
   "metadata": {},
   "source": [
    "##### Complex"
   ]
  },
  {
   "cell_type": "code",
   "execution_count": 55,
   "metadata": {},
   "outputs": [],
   "source": [
    "clear_vars()"
   ]
  },
  {
   "cell_type": "code",
   "execution_count": 56,
   "metadata": {},
   "outputs": [],
   "source": [
    "results_raws = [\n",
    "    {0: array([1, 0, 0, 1, 0, 0, 1, 0, 0, 0, 1, 0, 0, 0, 0, 0]), 1: array([0, 0, 1, 0, 1, 1, 1, 0, 0, 0, 1, 0, 0, 1, 0, 0]), 2: array([0, 0, 0, 1, 0, 1, 0, 0, 0, 0, 1, 0, 0, 1, 0, 0]), 6: array([0, 0, 0, 0, 1, 1, 1, 0, 0, 0, 1, 0, 0, 1, 0, 0]), 7: array([0, 0, 0, 0, 0, 0, 0, 0, 0, 0, 0, 0, 0, 0, 0, 0]), 10: array([0, 0, 0, 0, 0, 0, 0, 0, 0, 0, 0, 0, 0, 0, 0, 0]), 11: array([0, 0, 0, 0, 0, 0, 0, 0, 0, 0, 0, 0, 0, 0, 0, 0]), 13: array([0, 0, 0, 0, 0, 0, 0, 0, 0, 0, 0, 0, 0, 0, 0, 0]), 14: array([0, 0, 0, 0, 0, 0, 0, 0, 0, 0, 0, 0, 0, 0, 0, 0]), 15: array([0, 0, 0, 0, 0, 0, 0, 0, 0, 0, 0, 0, 0, 0, 0, 0]), 16: array([0, 0, 0, 0, 0, 0, 0, 0, 0, 0, 0, 0, 0, 0, 0, 0]), 17: array([0, 0, 0, 0, 0, 0, 0, 0, 0, 0, 0, 0, 0, 0, 0, 0])}\n",
    "]\n",
    "\n",
    "times = [2.0275902900029905]\n",
    "\n",
    "expected = [0 for i in range(n)]"
   ]
  },
  {
   "cell_type": "code",
   "execution_count": 57,
   "metadata": {},
   "outputs": [
    {
     "name": "stdout",
     "output_type": "stream",
     "text": [
      "[[1 0 0 0]\n",
      " [0 0 0 0]\n",
      " [0 1 0 0]\n",
      " [1 0 1 0]\n",
      " [0 1 0 1]\n",
      " [0 1 1 1]\n",
      " [1 1 0 1]\n",
      " [0 0 0 0]\n",
      " [0 0 0 0]\n",
      " [0 0 0 0]\n",
      " [1 1 1 1]\n",
      " [0 0 0 0]\n",
      " [0 0 0 0]\n",
      " [0 1 1 1]\n",
      " [0 0 0 0]\n",
      " [0 0 0 0]]\n"
     ]
    }
   ],
   "source": [
    "all_results = None\n",
    "\n",
    "for results_raw in results_raws:\n",
    "    results = getResultsArray(n=n, resultsDict=results_raw, Aspen12Q=True)\n",
    "    \n",
    "    if all_results is None:\n",
    "        all_results = results\n",
    "    else:\n",
    "        all_results = np.concatenate((all_results, results), axis=0)\n",
    "        \n",
    "print(all_results)"
   ]
  },
  {
   "cell_type": "code",
   "execution_count": 58,
   "metadata": {},
   "outputs": [
    {
     "name": "stdout",
     "output_type": "stream",
     "text": [
      "Accuracy: 8/16 = 50.0%\n",
      "Most prominent: [0 0 0 0]\n"
     ]
    }
   ],
   "source": [
    "acc_ = print_accuracy(all_results, should_be=expected)"
   ]
  },
  {
   "cell_type": "code",
   "execution_count": 59,
   "metadata": {},
   "outputs": [],
   "source": [
    "time_ = np.average(np.array(times))"
   ]
  },
  {
   "cell_type": "code",
   "execution_count": 60,
   "metadata": {},
   "outputs": [
    {
     "name": "stdout",
     "output_type": "stream",
     "text": [
      "Accuracy: 50.0%, Time: 2.0275902900029905\n"
     ]
    }
   ],
   "source": [
    "print('Accuracy: {}%, Time: {}'.format(acc_, time_))\n",
    "qvm_accuracy_c.append(acc_)\n",
    "qvm_time_c.append(time_)"
   ]
  },
  {
   "cell_type": "markdown",
   "metadata": {},
   "source": [
    "##### Simple"
   ]
  },
  {
   "cell_type": "code",
   "execution_count": 61,
   "metadata": {},
   "outputs": [],
   "source": [
    "clear_vars()"
   ]
  },
  {
   "cell_type": "code",
   "execution_count": 62,
   "metadata": {},
   "outputs": [],
   "source": [
    "results_raws = [\n",
    "    {0: array([1, 1, 1, 1, 1, 1, 0, 1, 0, 1, 1, 0, 1, 0, 0, 0]), 1: array([1, 1, 1, 1, 1, 1, 1, 1, 0, 1, 1, 0, 0, 0, 1, 0]), 2: array([1, 1, 1, 1, 1, 1, 0, 1, 1, 1, 1, 1, 0, 0, 1, 0]), 6: array([1, 1, 1, 1, 1, 1, 0, 1, 1, 1, 1, 1, 0, 1, 1, 0]), 7: array([0, 0, 0, 0, 0, 0, 0, 0, 0, 0, 0, 0, 0, 0, 0, 0]), 10: array([0, 0, 0, 0, 0, 0, 0, 0, 0, 0, 0, 0, 0, 0, 0, 0]), 11: array([0, 0, 0, 0, 0, 0, 0, 0, 0, 0, 0, 0, 0, 0, 0, 0]), 13: array([0, 0, 0, 0, 0, 0, 0, 0, 0, 0, 0, 0, 0, 0, 0, 0]), 14: array([0, 0, 0, 0, 0, 0, 0, 0, 0, 0, 0, 0, 0, 0, 0, 0]), 15: array([0, 0, 0, 0, 0, 0, 0, 0, 0, 0, 0, 0, 0, 0, 0, 0]), 16: array([0, 0, 0, 0, 0, 0, 0, 0, 0, 0, 0, 0, 0, 0, 0, 0]), 17: array([0, 0, 0, 0, 0, 0, 0, 0, 0, 0, 0, 0, 0, 0, 0, 0])}\n",
    "]\n",
    "\n",
    "times = [2.02465744302026]\n",
    "\n",
    "expected = [1 for i in range(n)]"
   ]
  },
  {
   "cell_type": "code",
   "execution_count": 63,
   "metadata": {},
   "outputs": [
    {
     "name": "stdout",
     "output_type": "stream",
     "text": [
      "[[1 1 1 1]\n",
      " [1 1 1 1]\n",
      " [1 1 1 1]\n",
      " [1 1 1 1]\n",
      " [1 1 1 1]\n",
      " [1 1 1 1]\n",
      " [0 1 0 0]\n",
      " [1 1 1 1]\n",
      " [0 0 1 1]\n",
      " [1 1 1 1]\n",
      " [1 1 1 1]\n",
      " [0 0 1 1]\n",
      " [1 0 0 0]\n",
      " [0 0 0 1]\n",
      " [0 1 1 1]\n",
      " [0 0 0 0]]\n"
     ]
    }
   ],
   "source": [
    "all_results = None\n",
    "\n",
    "for results_raw in results_raws:\n",
    "    results = getResultsArray(n=n, resultsDict=results_raw, Aspen12Q=True)\n",
    "    \n",
    "    if all_results is None:\n",
    "        all_results = results\n",
    "    else:\n",
    "        all_results = np.concatenate((all_results, results), axis=0)\n",
    "        \n",
    "print(all_results)"
   ]
  },
  {
   "cell_type": "code",
   "execution_count": 64,
   "metadata": {},
   "outputs": [
    {
     "name": "stdout",
     "output_type": "stream",
     "text": [
      "Accuracy: 9/16 = 56.25%\n",
      "Most prominent: [1 1 1 1]\n"
     ]
    }
   ],
   "source": [
    "acc_ = print_accuracy(all_results, should_be=expected)"
   ]
  },
  {
   "cell_type": "code",
   "execution_count": 65,
   "metadata": {},
   "outputs": [],
   "source": [
    "time_ = np.average(np.array(times))"
   ]
  },
  {
   "cell_type": "code",
   "execution_count": 66,
   "metadata": {},
   "outputs": [
    {
     "name": "stdout",
     "output_type": "stream",
     "text": [
      "Accuracy: 56.25%, Time: 2.02465744302026\n"
     ]
    }
   ],
   "source": [
    "print('Accuracy: {}%, Time: {}'.format(acc_, time_))\n",
    "qvm_accuracy_s.append(acc_)\n",
    "qvm_time_s.append(time_)"
   ]
  },
  {
   "cell_type": "markdown",
   "metadata": {},
   "source": [
    "### QPU Results"
   ]
  },
  {
   "cell_type": "markdown",
   "metadata": {},
   "source": [
    "##### Complex"
   ]
  },
  {
   "cell_type": "code",
   "execution_count": 67,
   "metadata": {},
   "outputs": [],
   "source": [
    "clear_vars()"
   ]
  },
  {
   "cell_type": "code",
   "execution_count": 68,
   "metadata": {},
   "outputs": [],
   "source": [
    "results_raws = [\n",
    "    {0: array([0, 0, 1, 1, 0, 1, 1, 1, 1, 0, 1, 1, 1, 0, 0, 1]), 1: array([0, 0, 0, 0, 0, 1, 1, 0, 1, 0, 1, 0, 1, 0, 0, 0]), 2: array([0, 1, 0, 0, 1, 1, 1, 0, 0, 0, 1, 1, 0, 0, 1, 1]), 6: array([1, 1, 1, 0, 1, 1, 1, 0, 0, 0, 1, 1, 0, 1, 0, 1]), 7: array([0, 0, 0, 0, 0, 0, 0, 0, 0, 0, 0, 0, 0, 0, 0, 0]), 10: array([0, 1, 0, 1, 1, 1, 0, 1, 0, 1, 0, 0, 0, 0, 1, 0]), 11: array([0, 0, 0, 0, 0, 0, 0, 0, 0, 0, 0, 0, 0, 0, 0, 0]), 13: array([0, 0, 0, 0, 0, 0, 0, 0, 0, 0, 0, 0, 0, 0, 0, 0]), 14: array([0, 0, 1, 1, 1, 0, 1, 1, 0, 1, 1, 1, 0, 0, 0, 1]), 15: array([0, 0, 0, 0, 0, 0, 0, 0, 0, 0, 0, 0, 0, 0, 0, 1]), 16: array([0, 0, 0, 0, 0, 0, 0, 0, 0, 0, 0, 0, 0, 0, 0, 0]), 17: array([0, 0, 0, 0, 0, 0, 1, 1, 0, 0, 0, 0, 0, 0, 0, 0])},\n",
    "    {0: array([0, 1, 0, 1, 0, 1, 1, 1, 1, 1, 1, 1, 1, 0, 0, 1]), 1: array([0, 0, 0, 0, 1, 0, 1, 1, 0, 1, 1, 0, 1, 1, 0, 0]), 2: array([0, 0, 1, 1, 1, 0, 0, 0, 1, 0, 0, 0, 1, 0, 1, 0]), 6: array([1, 0, 0, 0, 1, 1, 1, 1, 0, 1, 0, 0, 1, 1, 0, 1]), 7: array([0, 0, 0, 0, 0, 0, 1, 0, 0, 0, 0, 0, 0, 0, 0, 0]), 10: array([1, 0, 1, 1, 0, 1, 1, 0, 1, 0, 1, 0, 1, 0, 0, 1]), 11: array([0, 0, 0, 0, 0, 0, 0, 0, 0, 0, 0, 0, 0, 1, 0, 0]), 13: array([0, 0, 0, 0, 0, 0, 0, 0, 0, 0, 0, 0, 0, 0, 0, 0]), 14: array([0, 0, 0, 0, 0, 0, 1, 0, 0, 1, 0, 1, 0, 1, 1, 1]), 15: array([0, 0, 0, 0, 0, 1, 0, 0, 0, 0, 0, 0, 0, 0, 0, 0]), 16: array([0, 0, 0, 0, 0, 0, 0, 0, 0, 0, 0, 0, 0, 0, 0, 0]), 17: array([0, 0, 0, 0, 0, 0, 0, 0, 0, 0, 0, 0, 1, 0, 0, 0])}\n",
    "]\n",
    "\n",
    "times = [1.216452485008631, 1.2442219399963506]\n",
    "\n",
    "expected = [0 for i in range(n)]"
   ]
  },
  {
   "cell_type": "code",
   "execution_count": 69,
   "metadata": {},
   "outputs": [
    {
     "name": "stdout",
     "output_type": "stream",
     "text": [
      "[[0 0 0 1]\n",
      " [0 0 1 1]\n",
      " [1 0 0 1]\n",
      " [1 0 0 0]\n",
      " [0 0 1 1]\n",
      " [1 1 1 1]\n",
      " [1 1 1 1]\n",
      " [1 0 0 0]\n",
      " [1 1 0 0]\n",
      " [0 0 0 0]\n",
      " [1 1 1 1]\n",
      " [1 0 1 1]\n",
      " [1 1 0 0]\n",
      " [0 0 0 1]\n",
      " [0 0 1 0]\n",
      " [1 0 1 1]\n",
      " [0 0 0 1]\n",
      " [1 0 0 0]\n",
      " [0 0 1 0]\n",
      " [1 0 1 0]\n",
      " [0 1 1 1]\n",
      " [1 0 0 1]\n",
      " [1 1 0 1]\n",
      " [1 1 0 1]\n",
      " [1 0 1 0]\n",
      " [1 1 0 1]\n",
      " [1 1 0 0]\n",
      " [1 0 0 0]\n",
      " [1 1 1 1]\n",
      " [0 1 0 1]\n",
      " [0 0 1 0]\n",
      " [1 0 0 1]]\n"
     ]
    }
   ],
   "source": [
    "all_results = None\n",
    "\n",
    "for results_raw in results_raws:\n",
    "    results = getResultsArray(n=n, resultsDict=results_raw, Aspen12Q=True)\n",
    "    \n",
    "    if all_results is None:\n",
    "        all_results = results\n",
    "    else:\n",
    "        all_results = np.concatenate((all_results, results), axis=0)\n",
    "        \n",
    "print(all_results)"
   ]
  },
  {
   "cell_type": "code",
   "execution_count": 70,
   "metadata": {},
   "outputs": [
    {
     "name": "stdout",
     "output_type": "stream",
     "text": [
      "Accuracy: 1/32 = 3.125%\n",
      "Most prominent: [1 0 0 0]\n"
     ]
    }
   ],
   "source": [
    "acc_ = print_accuracy(all_results, should_be=expected)"
   ]
  },
  {
   "cell_type": "code",
   "execution_count": 71,
   "metadata": {},
   "outputs": [],
   "source": [
    "time_ = np.average(np.array(times))"
   ]
  },
  {
   "cell_type": "code",
   "execution_count": 72,
   "metadata": {},
   "outputs": [
    {
     "name": "stdout",
     "output_type": "stream",
     "text": [
      "Accuracy: 3.125%, Time: 1.2303372125024907\n"
     ]
    }
   ],
   "source": [
    "print('Accuracy: {}%, Time: {}'.format(acc_, time_))\n",
    "qpu_accuracy_c.append(acc_)\n",
    "qpu_time_c.append(time_)"
   ]
  },
  {
   "cell_type": "markdown",
   "metadata": {},
   "source": [
    "##### Simple"
   ]
  },
  {
   "cell_type": "code",
   "execution_count": 73,
   "metadata": {},
   "outputs": [],
   "source": [
    "clear_vars()"
   ]
  },
  {
   "cell_type": "code",
   "execution_count": 74,
   "metadata": {},
   "outputs": [],
   "source": [
    "results_raws = [\n",
    "    {0: array([1, 1, 1, 0, 0, 1, 0, 1, 0, 0, 0, 1, 1, 0, 1, 1]), 1: array([0, 1, 1, 0, 1, 1, 1, 0, 0, 0, 1, 1, 1, 0, 1, 0]), 2: array([1, 1, 0, 1, 0, 0, 0, 1, 1, 1, 0, 0, 1, 1, 0, 0]), 6: array([1, 0, 1, 0, 1, 0, 0, 0, 0, 1, 1, 0, 1, 1, 1, 1]), 7: array([0, 0, 0, 0, 0, 0, 0, 0, 0, 0, 0, 0, 0, 1, 0, 0]), 10: array([0, 1, 1, 0, 0, 0, 0, 1, 1, 0, 0, 0, 0, 1, 0, 1]), 11: array([0, 0, 0, 0, 0, 0, 0, 0, 0, 0, 0, 0, 0, 0, 0, 0]), 13: array([0, 0, 0, 0, 0, 0, 0, 0, 0, 0, 0, 0, 0, 0, 0, 0]), 14: array([0, 0, 0, 0, 1, 0, 0, 0, 1, 0, 1, 0, 1, 1, 0, 0]), 15: array([0, 0, 0, 0, 0, 0, 0, 0, 0, 0, 1, 0, 0, 0, 0, 0]), 16: array([0, 0, 0, 0, 0, 0, 0, 0, 0, 0, 0, 0, 0, 0, 0, 0]), 17: array([0, 0, 0, 0, 0, 0, 0, 0, 0, 0, 1, 0, 0, 0, 0, 0])}\n",
    "]\n",
    "\n",
    "times = [1.22128239198355]\n",
    "\n",
    "expected = [1 for i in range(n)]"
   ]
  },
  {
   "cell_type": "code",
   "execution_count": 75,
   "metadata": {},
   "outputs": [
    {
     "name": "stdout",
     "output_type": "stream",
     "text": [
      "[[1 0 1 1]\n",
      " [1 1 1 0]\n",
      " [1 1 0 1]\n",
      " [0 0 1 0]\n",
      " [0 1 0 1]\n",
      " [1 1 0 0]\n",
      " [0 1 0 0]\n",
      " [1 0 1 0]\n",
      " [0 0 1 0]\n",
      " [0 0 1 1]\n",
      " [0 1 0 1]\n",
      " [1 1 0 0]\n",
      " [1 1 1 1]\n",
      " [0 0 1 1]\n",
      " [1 1 0 1]\n",
      " [1 0 0 1]]\n"
     ]
    }
   ],
   "source": [
    "all_results = None\n",
    "\n",
    "for results_raw in results_raws:\n",
    "    results = getResultsArray(n=n, resultsDict=results_raw, Aspen12Q=True)\n",
    "    \n",
    "    if all_results is None:\n",
    "        all_results = results\n",
    "    else:\n",
    "        all_results = np.concatenate((all_results, results), axis=0)\n",
    "        \n",
    "print(all_results)"
   ]
  },
  {
   "cell_type": "code",
   "execution_count": 76,
   "metadata": {},
   "outputs": [
    {
     "name": "stdout",
     "output_type": "stream",
     "text": [
      "Accuracy: 1/16 = 6.25%\n",
      "Most prominent: [0 0 1 0]\n"
     ]
    }
   ],
   "source": [
    "acc_ = print_accuracy(all_results, should_be=expected)"
   ]
  },
  {
   "cell_type": "code",
   "execution_count": 77,
   "metadata": {},
   "outputs": [],
   "source": [
    "time_ = np.average(np.array(times))"
   ]
  },
  {
   "cell_type": "code",
   "execution_count": 78,
   "metadata": {},
   "outputs": [
    {
     "name": "stdout",
     "output_type": "stream",
     "text": [
      "Accuracy: 6.25%, Time: 1.22128239198355\n"
     ]
    }
   ],
   "source": [
    "print('Accuracy: {}%, Time: {}'.format(acc_, time_))\n",
    "qpu_accuracy_s.append(acc_)\n",
    "qpu_time_s.append(time_)"
   ]
  },
  {
   "cell_type": "markdown",
   "metadata": {},
   "source": [
    "## n = 5"
   ]
  },
  {
   "cell_type": "code",
   "execution_count": 79,
   "metadata": {},
   "outputs": [],
   "source": [
    "n = 5"
   ]
  },
  {
   "cell_type": "markdown",
   "metadata": {},
   "source": [
    "### QVM Results"
   ]
  },
  {
   "cell_type": "markdown",
   "metadata": {},
   "source": [
    "##### Complex"
   ]
  },
  {
   "cell_type": "code",
   "execution_count": 80,
   "metadata": {},
   "outputs": [],
   "source": [
    "clear_vars()"
   ]
  },
  {
   "cell_type": "code",
   "execution_count": 81,
   "metadata": {},
   "outputs": [],
   "source": [
    "results_raws = [\n",
    "    {0: array([0, 0, 0, 1, 0, 0, 1, 1, 0, 1, 1, 0, 0, 0, 0, 0, 0, 0, 0, 0, 0, 0,\n",
    "       0, 0, 0, 1, 1, 1, 0, 0, 0, 0]), 1: array([1, 1, 0, 0, 0, 1, 0, 0, 0, 1, 0, 1, 0, 0, 0, 0, 1, 0, 0, 0, 1, 1,\n",
    "       0, 1, 0, 1, 0, 0, 0, 0, 0, 0]), 2: array([0, 0, 0, 0, 0, 1, 0, 0, 0, 0, 1, 1, 1, 0, 1, 1, 0, 1, 0, 0, 1, 0,\n",
    "       1, 0, 0, 1, 1, 0, 0, 0, 0, 0]), 6: array([0, 1, 0, 1, 0, 0, 0, 1, 0, 0, 0, 0, 0, 0, 1, 1, 0, 1, 0, 0, 1, 0,\n",
    "       0, 1, 0, 1, 0, 1, 0, 0, 0, 0]), 7: array([1, 1, 0, 1, 0, 0, 0, 0, 0, 1, 0, 0, 0, 0, 0, 1, 0, 0, 0, 0, 1, 0,\n",
    "       0, 0, 0, 0, 1, 0, 0, 0, 0, 0]), 10: array([0, 0, 0, 0, 0, 0, 0, 0, 0, 0, 0, 0, 0, 0, 0, 0, 0, 0, 0, 0, 0, 0,\n",
    "       0, 0, 0, 0, 0, 0, 0, 0, 0, 0]), 11: array([0, 0, 0, 0, 0, 0, 0, 0, 0, 0, 0, 0, 0, 0, 0, 0, 0, 0, 0, 0, 0, 0,\n",
    "       0, 0, 0, 0, 0, 0, 0, 0, 0, 0]), 13: array([0, 0, 0, 0, 0, 0, 0, 0, 0, 0, 0, 0, 0, 0, 0, 0, 0, 0, 0, 0, 0, 0,\n",
    "       0, 0, 0, 0, 0, 0, 0, 0, 0, 0]), 14: array([0, 0, 0, 0, 0, 0, 0, 0, 0, 0, 0, 0, 0, 0, 0, 0, 0, 0, 0, 0, 0, 0,\n",
    "       0, 0, 0, 0, 0, 0, 0, 0, 0, 0]), 15: array([0, 0, 0, 0, 0, 0, 0, 0, 0, 0, 0, 0, 0, 0, 0, 0, 0, 0, 0, 0, 0, 0,\n",
    "       0, 0, 0, 0, 0, 0, 0, 0, 0, 0]), 16: array([0, 0, 0, 0, 0, 0, 0, 0, 0, 0, 0, 0, 0, 0, 0, 0, 0, 0, 0, 0, 0, 0,\n",
    "       0, 0, 0, 0, 0, 0, 0, 0, 0, 0]), 17: array([0, 0, 0, 0, 0, 0, 0, 0, 0, 0, 0, 0, 0, 0, 0, 0, 0, 0, 0, 0, 0, 0,\n",
    "       0, 0, 0, 0, 0, 0, 0, 0, 0, 0])}\n",
    "]\n",
    "\n",
    "times = [8.024815768003464]\n",
    "\n",
    "expected = [0 for i in range(n)]"
   ]
  },
  {
   "cell_type": "code",
   "execution_count": 82,
   "metadata": {},
   "outputs": [
    {
     "name": "stdout",
     "output_type": "stream",
     "text": [
      "[[0 1 0 0 1]\n",
      " [0 1 0 1 1]\n",
      " [0 0 0 0 0]\n",
      " [1 0 0 1 1]\n",
      " [0 0 0 0 0]\n",
      " [0 1 1 0 0]\n",
      " [1 0 0 0 0]\n",
      " [1 0 0 1 0]\n",
      " [0 0 0 0 0]\n",
      " [1 1 0 0 1]\n",
      " [1 0 1 0 0]\n",
      " [0 1 1 0 0]\n",
      " [0 0 1 0 0]\n",
      " [0 0 0 0 0]\n",
      " [0 0 1 1 0]\n",
      " [0 0 1 1 1]\n",
      " [0 1 0 0 0]\n",
      " [0 0 1 1 0]\n",
      " [0 0 0 0 0]\n",
      " [0 0 0 0 0]\n",
      " [0 1 1 1 1]\n",
      " [0 1 0 0 0]\n",
      " [0 0 1 0 0]\n",
      " [0 1 0 1 0]\n",
      " [0 0 0 0 0]\n",
      " [1 1 1 1 0]\n",
      " [1 0 1 0 1]\n",
      " [1 0 0 1 0]\n",
      " [0 0 0 0 0]\n",
      " [0 0 0 0 0]\n",
      " [0 0 0 0 0]\n",
      " [0 0 0 0 0]]\n"
     ]
    }
   ],
   "source": [
    "all_results = None\n",
    "\n",
    "for results_raw in results_raws:\n",
    "    results = getResultsArray(n=n, resultsDict=results_raw, Aspen12Q=True)\n",
    "    \n",
    "    if all_results is None:\n",
    "        all_results = results\n",
    "    else:\n",
    "        all_results = np.concatenate((all_results, results), axis=0)\n",
    "        \n",
    "print(all_results)"
   ]
  },
  {
   "cell_type": "code",
   "execution_count": 83,
   "metadata": {},
   "outputs": [
    {
     "name": "stdout",
     "output_type": "stream",
     "text": [
      "Accuracy: 11/32 = 34.375%\n",
      "Most prominent: [0 0 0 0 0]\n"
     ]
    }
   ],
   "source": [
    "acc_ = print_accuracy(all_results, should_be=expected)"
   ]
  },
  {
   "cell_type": "code",
   "execution_count": 84,
   "metadata": {},
   "outputs": [],
   "source": [
    "time_ = np.average(np.array(times))"
   ]
  },
  {
   "cell_type": "code",
   "execution_count": 85,
   "metadata": {},
   "outputs": [
    {
     "name": "stdout",
     "output_type": "stream",
     "text": [
      "Accuracy: 34.375%, Time: 8.024815768003464\n"
     ]
    }
   ],
   "source": [
    "print('Accuracy: {}%, Time: {}'.format(acc_, time_))\n",
    "qvm_accuracy_c.append(acc_)\n",
    "qvm_time_c.append(time_)"
   ]
  },
  {
   "cell_type": "markdown",
   "metadata": {},
   "source": [
    "##### Simple"
   ]
  },
  {
   "cell_type": "code",
   "execution_count": 86,
   "metadata": {},
   "outputs": [],
   "source": [
    "clear_vars()"
   ]
  },
  {
   "cell_type": "code",
   "execution_count": 87,
   "metadata": {},
   "outputs": [],
   "source": [
    "results_raws = [\n",
    "    {0: array([1, 1, 0, 1, 0, 1, 1, 0, 0, 0, 1, 1, 1, 1, 1, 0, 1, 1, 0, 0, 1, 1,\n",
    "       0, 0, 1, 1, 1, 1, 1, 0, 0, 0]), 1: array([1, 1, 0, 1, 0, 1, 1, 0, 1, 0, 1, 1, 0, 1, 1, 0, 0, 1, 1, 0, 1, 1,\n",
    "       1, 1, 1, 0, 1, 1, 0, 0, 1, 1]), 2: array([1, 0, 1, 1, 1, 1, 1, 0, 1, 1, 1, 1, 1, 1, 0, 0, 1, 1, 0, 0, 1, 1,\n",
    "       1, 1, 1, 1, 1, 1, 0, 0, 1, 1]), 6: array([1, 1, 0, 1, 1, 1, 1, 1, 1, 0, 1, 1, 0, 1, 1, 0, 0, 1, 0, 1, 1, 1,\n",
    "       0, 0, 1, 1, 1, 1, 0, 1, 1, 0]), 7: array([1, 0, 0, 1, 1, 1, 1, 1, 0, 0, 1, 1, 1, 1, 1, 0, 1, 1, 1, 1, 1, 0,\n",
    "       1, 1, 1, 0, 1, 1, 1, 0, 1, 0]), 10: array([0, 0, 0, 0, 0, 0, 0, 0, 0, 0, 0, 0, 0, 0, 0, 0, 0, 0, 0, 0, 0, 0,\n",
    "       0, 0, 0, 0, 0, 0, 0, 0, 0, 0]), 11: array([0, 0, 0, 0, 0, 0, 0, 0, 0, 0, 0, 0, 0, 0, 0, 0, 0, 0, 0, 0, 0, 0,\n",
    "       0, 0, 0, 0, 0, 0, 0, 0, 0, 0]), 13: array([0, 0, 0, 0, 0, 0, 0, 0, 0, 0, 0, 0, 0, 0, 0, 0, 0, 0, 0, 0, 0, 0,\n",
    "       0, 0, 0, 0, 0, 0, 0, 0, 0, 0]), 14: array([0, 0, 0, 0, 0, 0, 0, 0, 0, 0, 0, 0, 0, 0, 0, 0, 0, 0, 0, 0, 0, 0,\n",
    "       0, 0, 0, 0, 0, 0, 0, 0, 0, 0]), 15: array([0, 0, 0, 0, 0, 0, 0, 0, 0, 0, 0, 0, 0, 0, 0, 0, 0, 0, 0, 0, 0, 0,\n",
    "       0, 0, 0, 0, 0, 0, 0, 0, 0, 0]), 16: array([0, 0, 0, 0, 0, 0, 0, 0, 0, 0, 0, 0, 0, 0, 0, 0, 0, 0, 0, 0, 0, 0,\n",
    "       0, 0, 0, 0, 0, 0, 0, 0, 0, 0]), 17: array([0, 0, 0, 0, 0, 0, 0, 0, 0, 0, 0, 0, 0, 0, 0, 0, 0, 0, 0, 0, 0, 0,\n",
    "       0, 0, 0, 0, 0, 0, 0, 0, 0, 0])}\n",
    "]\n",
    "\n",
    "times = [8.036032825999428]\n",
    "\n",
    "expected = [1 for i in range(n)]"
   ]
  },
  {
   "cell_type": "code",
   "execution_count": 88,
   "metadata": {},
   "outputs": [
    {
     "name": "stdout",
     "output_type": "stream",
     "text": [
      "[[1 1 1 1 1]\n",
      " [1 1 0 1 0]\n",
      " [0 0 1 0 0]\n",
      " [1 1 1 1 1]\n",
      " [0 0 1 1 1]\n",
      " [1 1 1 1 1]\n",
      " [1 1 1 1 1]\n",
      " [0 0 0 1 1]\n",
      " [0 1 1 1 0]\n",
      " [0 0 1 0 0]\n",
      " [1 1 1 1 1]\n",
      " [1 1 1 1 1]\n",
      " [1 0 1 0 1]\n",
      " [1 1 1 1 1]\n",
      " [1 1 0 1 1]\n",
      " [0 0 0 0 0]\n",
      " [1 0 1 0 1]\n",
      " [1 1 1 1 1]\n",
      " [0 1 0 0 1]\n",
      " [0 0 0 1 1]\n",
      " [1 1 1 1 1]\n",
      " [1 1 1 1 0]\n",
      " [0 1 1 0 1]\n",
      " [0 1 1 0 1]\n",
      " [1 1 1 1 1]\n",
      " [1 0 1 1 0]\n",
      " [1 1 1 1 1]\n",
      " [1 1 1 1 1]\n",
      " [1 0 0 0 1]\n",
      " [0 0 0 1 0]\n",
      " [0 1 1 1 1]\n",
      " [0 1 1 0 0]]\n"
     ]
    }
   ],
   "source": [
    "all_results = None\n",
    "\n",
    "for results_raw in results_raws:\n",
    "    results = getResultsArray(n=n, resultsDict=results_raw, Aspen12Q=True)\n",
    "    \n",
    "    if all_results is None:\n",
    "        all_results = results\n",
    "    else:\n",
    "        all_results = np.concatenate((all_results, results), axis=0)\n",
    "        \n",
    "print(all_results)"
   ]
  },
  {
   "cell_type": "code",
   "execution_count": 89,
   "metadata": {},
   "outputs": [
    {
     "name": "stdout",
     "output_type": "stream",
     "text": [
      "Accuracy: 12/32 = 37.5%\n",
      "Most prominent: [1 1 1 1 1]\n"
     ]
    }
   ],
   "source": [
    "acc_ = print_accuracy(all_results, should_be=expected)"
   ]
  },
  {
   "cell_type": "code",
   "execution_count": 90,
   "metadata": {},
   "outputs": [],
   "source": [
    "time_ = np.average(np.array(times))"
   ]
  },
  {
   "cell_type": "code",
   "execution_count": 91,
   "metadata": {},
   "outputs": [
    {
     "name": "stdout",
     "output_type": "stream",
     "text": [
      "Accuracy: 37.5%, Time: 8.036032825999428\n"
     ]
    }
   ],
   "source": [
    "print('Accuracy: {}%, Time: {}'.format(acc_, time_))\n",
    "qvm_accuracy_s.append(acc_)\n",
    "qvm_time_s.append(time_)"
   ]
  },
  {
   "cell_type": "markdown",
   "metadata": {},
   "source": [
    "### QPU Results"
   ]
  },
  {
   "cell_type": "markdown",
   "metadata": {},
   "source": [
    "##### Complex"
   ]
  },
  {
   "cell_type": "code",
   "execution_count": 92,
   "metadata": {},
   "outputs": [],
   "source": [
    "clear_vars()"
   ]
  },
  {
   "cell_type": "code",
   "execution_count": 93,
   "metadata": {},
   "outputs": [],
   "source": [
    "results_raws = [\n",
    "    {0: array([1, 1, 1, 0, 0, 0, 0, 0, 0, 0, 1, 0, 0, 1, 0, 0, 0, 0, 0, 0, 0, 0,\n",
    "       1, 1, 1, 0, 0, 1, 1, 1, 0, 1]), 1: array([0, 0, 1, 0, 1, 0, 0, 0, 1, 1, 0, 1, 0, 0, 1, 1, 1, 0, 1, 1, 1, 1,\n",
    "       0, 0, 0, 0, 0, 1, 0, 0, 0, 1]), 2: array([1, 0, 0, 0, 0, 0, 1, 1, 1, 1, 0, 0, 1, 0, 0, 0, 0, 1, 1, 0, 1, 0,\n",
    "       0, 1, 1, 0, 1, 0, 0, 0, 0, 0]), 6: array([1, 1, 0, 1, 0, 0, 1, 0, 1, 1, 1, 1, 0, 0, 1, 1, 1, 0, 0, 1, 1, 1,\n",
    "       1, 0, 1, 1, 0, 0, 1, 1, 0, 1]), 7: array([0, 0, 1, 1, 0, 0, 1, 1, 0, 1, 1, 1, 0, 0, 1, 1, 0, 1, 1, 1, 0, 0,\n",
    "       1, 1, 1, 1, 0, 1, 1, 1, 1, 1]), 10: array([1, 0, 1, 1, 0, 0, 0, 0, 0, 0, 1, 0, 1, 0, 1, 1, 0, 1, 0, 1, 1, 0,\n",
    "       1, 1, 1, 1, 0, 1, 0, 1, 0, 1]), 11: array([0, 0, 0, 0, 1, 0, 0, 0, 0, 0, 0, 0, 0, 0, 0, 0, 0, 0, 0, 0, 0, 0,\n",
    "       0, 0, 0, 0, 0, 0, 0, 0, 0, 0]), 13: array([0, 0, 0, 0, 0, 0, 0, 0, 0, 0, 0, 0, 0, 0, 0, 0, 1, 0, 0, 0, 0, 0,\n",
    "       0, 0, 0, 0, 0, 0, 0, 1, 0, 0]), 14: array([0, 0, 1, 0, 1, 1, 1, 0, 0, 0, 0, 1, 1, 0, 0, 1, 0, 0, 1, 0, 1, 1,\n",
    "       0, 1, 0, 0, 0, 0, 0, 0, 0, 1]), 15: array([0, 0, 0, 0, 1, 0, 0, 0, 0, 0, 0, 0, 0, 0, 0, 0, 0, 0, 0, 0, 0, 0,\n",
    "       0, 0, 0, 0, 0, 0, 0, 0, 0, 0]), 16: array([0, 0, 0, 0, 0, 0, 0, 0, 0, 0, 0, 0, 0, 0, 0, 0, 0, 1, 0, 0, 0, 0,\n",
    "       0, 0, 0, 0, 0, 0, 0, 0, 0, 0]), 17: array([0, 0, 0, 0, 0, 0, 0, 0, 0, 0, 0, 0, 0, 0, 0, 0, 0, 0, 0, 0, 0, 0,\n",
    "       0, 0, 0, 0, 1, 0, 0, 0, 0, 1])},\n",
    "    {0: array([0, 0, 0, 1, 0, 1, 1, 0, 0, 1, 1, 1, 1, 1, 0, 0, 0, 1, 1, 1, 0, 1,\n",
    "       0, 1, 0, 1, 0, 0, 1, 0, 0, 1]), 1: array([1, 1, 0, 0, 0, 1, 0, 1, 0, 0, 1, 1, 1, 0, 1, 1, 0, 0, 0, 0, 0, 0,\n",
    "       1, 1, 0, 0, 1, 1, 1, 1, 0, 0]), 2: array([1, 0, 0, 1, 0, 0, 0, 0, 0, 0, 0, 0, 1, 1, 0, 0, 0, 1, 0, 0, 1, 0,\n",
    "       0, 1, 1, 1, 1, 0, 0, 0, 0, 0]), 6: array([1, 1, 1, 1, 1, 1, 0, 1, 0, 1, 0, 1, 0, 0, 1, 1, 0, 1, 1, 1, 1, 1,\n",
    "       0, 0, 1, 1, 1, 1, 0, 1, 1, 1]), 7: array([0, 1, 1, 1, 1, 0, 0, 1, 1, 0, 1, 0, 1, 1, 1, 0, 0, 1, 0, 1, 0, 1,\n",
    "       0, 1, 0, 0, 1, 0, 0, 0, 0, 1]), 10: array([0, 1, 1, 0, 0, 0, 1, 0, 0, 0, 0, 0, 1, 1, 0, 0, 0, 0, 1, 0, 0, 0,\n",
    "       0, 0, 0, 0, 0, 1, 0, 0, 0, 0]), 11: array([0, 0, 0, 0, 0, 0, 0, 0, 0, 0, 0, 0, 0, 0, 0, 0, 0, 0, 0, 0, 0, 0,\n",
    "       0, 0, 0, 0, 0, 0, 0, 0, 0, 0]), 13: array([0, 0, 0, 0, 0, 0, 0, 0, 0, 0, 0, 0, 0, 0, 0, 0, 0, 0, 0, 0, 0, 1,\n",
    "       0, 0, 0, 0, 0, 0, 0, 0, 0, 0]), 14: array([0, 0, 0, 0, 0, 1, 1, 1, 0, 1, 1, 0, 0, 1, 0, 1, 1, 0, 1, 0, 0, 0,\n",
    "       1, 0, 1, 0, 0, 0, 1, 0, 0, 1]), 15: array([0, 0, 0, 0, 0, 0, 0, 0, 0, 0, 0, 0, 0, 0, 0, 0, 0, 0, 0, 0, 0, 0,\n",
    "       0, 1, 0, 0, 0, 0, 0, 0, 0, 0]), 16: array([0, 0, 0, 0, 0, 0, 0, 0, 0, 0, 0, 0, 0, 0, 0, 0, 0, 0, 0, 0, 0, 0,\n",
    "       0, 0, 0, 0, 0, 0, 0, 0, 0, 0]), 17: array([0, 0, 0, 0, 0, 0, 0, 0, 0, 0, 1, 0, 0, 1, 0, 0, 0, 0, 0, 0, 0, 1,\n",
    "       0, 0, 0, 0, 0, 0, 0, 0, 0, 0])}\n",
    "]\n",
    "\n",
    "times = [3.5149570959620178, 3.4865376070374623]\n",
    "\n",
    "expected = [0 for i in range(n)]"
   ]
  },
  {
   "cell_type": "code",
   "execution_count": 94,
   "metadata": {},
   "outputs": [
    {
     "name": "stdout",
     "output_type": "stream",
     "text": [
      "[[1 0 1 1 0]\n",
      " [1 0 0 1 0]\n",
      " [1 1 0 0 1]\n",
      " [0 0 0 1 1]\n",
      " [0 1 0 0 0]\n",
      " [0 0 0 0 0]\n",
      " [0 0 1 1 1]\n",
      " [0 0 1 0 1]\n",
      " [0 1 1 1 0]\n",
      " [0 1 1 1 1]\n",
      " [1 0 0 1 1]\n",
      " [0 1 0 1 1]\n",
      " [0 0 1 0 0]\n",
      " [1 0 0 0 0]\n",
      " [0 1 0 1 1]\n",
      " [0 1 0 1 1]\n",
      " [0 1 0 1 0]\n",
      " [0 0 1 0 1]\n",
      " [0 1 1 0 1]\n",
      " [0 1 0 1 1]\n",
      " [0 1 1 1 0]\n",
      " [0 1 0 1 0]\n",
      " [1 0 0 1 1]\n",
      " [1 0 1 0 1]\n",
      " [1 0 1 1 1]\n",
      " [0 0 0 1 1]\n",
      " [0 0 1 0 0]\n",
      " [1 1 0 0 1]\n",
      " [1 0 0 1 1]\n",
      " [1 0 0 1 1]\n",
      " [0 0 0 0 1]\n",
      " [1 1 0 1 1]\n",
      " [0 1 1 1 0]\n",
      " [0 1 0 1 1]\n",
      " [0 0 0 1 1]\n",
      " [1 0 1 1 1]\n",
      " [0 0 0 1 1]\n",
      " [1 1 0 1 0]\n",
      " [1 0 0 0 0]\n",
      " [0 1 0 1 1]\n",
      " [0 0 0 0 1]\n",
      " [1 0 0 1 0]\n",
      " [1 1 0 0 1]\n",
      " [1 1 0 1 0]\n",
      " [1 1 1 0 1]\n",
      " [1 0 1 0 1]\n",
      " [0 1 0 1 1]\n",
      " [0 1 0 1 0]\n",
      " [0 0 0 0 0]\n",
      " [1 0 1 1 1]\n",
      " [1 0 0 1 0]\n",
      " [1 0 0 1 1]\n",
      " [0 0 1 1 0]\n",
      " [1 0 0 1 1]\n",
      " [0 1 0 0 0]\n",
      " [1 1 1 0 1]\n",
      " [0 0 1 1 0]\n",
      " [1 0 1 1 0]\n",
      " [0 1 1 1 1]\n",
      " [0 1 0 1 0]\n",
      " [1 1 0 0 0]\n",
      " [0 1 0 1 0]\n",
      " [0 0 0 1 0]\n",
      " [1 0 0 1 1]]\n"
     ]
    }
   ],
   "source": [
    "all_results = None\n",
    "\n",
    "for results_raw in results_raws:\n",
    "    results = getResultsArray(n=n, resultsDict=results_raw, Aspen12Q=True)\n",
    "    \n",
    "    if all_results is None:\n",
    "        all_results = results\n",
    "    else:\n",
    "        all_results = np.concatenate((all_results, results), axis=0)\n",
    "        \n",
    "print(all_results)"
   ]
  },
  {
   "cell_type": "code",
   "execution_count": 95,
   "metadata": {},
   "outputs": [
    {
     "name": "stdout",
     "output_type": "stream",
     "text": [
      "Accuracy: 2/64 = 3.125%\n",
      "Most prominent: [0 1 0 1 1]\n"
     ]
    }
   ],
   "source": [
    "acc_ = print_accuracy(all_results, should_be=expected)"
   ]
  },
  {
   "cell_type": "code",
   "execution_count": 96,
   "metadata": {},
   "outputs": [],
   "source": [
    "time_ = np.average(np.array(times))"
   ]
  },
  {
   "cell_type": "code",
   "execution_count": 97,
   "metadata": {},
   "outputs": [
    {
     "name": "stdout",
     "output_type": "stream",
     "text": [
      "Accuracy: 3.125%, Time: 3.50074735149974\n"
     ]
    }
   ],
   "source": [
    "print('Accuracy: {}%, Time: {}'.format(acc_, time_))\n",
    "qpu_accuracy_c.append(acc_)\n",
    "qpu_time_c.append(time_)"
   ]
  },
  {
   "cell_type": "markdown",
   "metadata": {},
   "source": [
    "##### Simple"
   ]
  },
  {
   "cell_type": "code",
   "execution_count": 98,
   "metadata": {},
   "outputs": [],
   "source": [
    "clear_vars()"
   ]
  },
  {
   "cell_type": "code",
   "execution_count": 99,
   "metadata": {},
   "outputs": [],
   "source": [
    "results_raws = [\n",
    "    {0: array([1, 1, 1, 1, 0, 0, 0, 1, 1, 1, 0, 1, 0, 1, 1, 1, 1, 0, 0, 0, 0, 0,\n",
    "       1, 0, 1, 1, 0, 1, 0, 0, 1, 1]), 1: array([0, 0, 1, 0, 0, 0, 1, 1, 1, 0, 0, 1, 0, 0, 0, 0, 0, 1, 0, 1, 1, 1,\n",
    "       1, 0, 1, 0, 0, 0, 0, 0, 1, 0]), 2: array([0, 0, 0, 1, 0, 0, 1, 0, 0, 0, 1, 1, 1, 0, 1, 0, 1, 0, 0, 1, 0, 0,\n",
    "       0, 0, 0, 1, 0, 1, 0, 1, 0, 0]), 6: array([1, 0, 0, 1, 0, 1, 0, 0, 1, 0, 0, 0, 1, 1, 0, 0, 0, 0, 0, 1, 0, 1,\n",
    "       0, 1, 0, 0, 1, 1, 0, 1, 0, 1]), 7: array([1, 0, 0, 0, 1, 1, 0, 1, 1, 0, 0, 1, 1, 0, 1, 1, 1, 0, 1, 1, 1, 0,\n",
    "       1, 1, 0, 1, 1, 1, 1, 1, 1, 1]), 10: array([0, 1, 1, 0, 1, 0, 1, 1, 0, 1, 0, 0, 1, 0, 1, 1, 0, 1, 0, 0, 1, 1,\n",
    "       1, 1, 0, 0, 0, 1, 0, 0, 0, 0]), 11: array([0, 0, 0, 0, 0, 0, 0, 0, 0, 0, 0, 0, 0, 0, 0, 0, 0, 0, 0, 0, 0, 0,\n",
    "       0, 0, 0, 0, 0, 0, 0, 0, 0, 0]), 13: array([0, 0, 0, 0, 0, 0, 0, 0, 0, 1, 0, 0, 0, 0, 0, 0, 0, 0, 0, 0, 0, 0,\n",
    "       0, 0, 1, 0, 0, 0, 0, 0, 0, 0]), 14: array([0, 1, 0, 1, 0, 0, 1, 1, 1, 0, 0, 1, 0, 1, 0, 0, 1, 0, 0, 1, 0, 0,\n",
    "       1, 0, 0, 0, 0, 0, 1, 0, 0, 1]), 15: array([0, 1, 0, 0, 0, 0, 1, 0, 0, 0, 0, 0, 0, 0, 0, 1, 1, 0, 0, 0, 0, 1,\n",
    "       0, 0, 0, 0, 0, 0, 1, 0, 1, 1]), 16: array([0, 0, 0, 0, 0, 0, 0, 0, 0, 0, 0, 0, 0, 0, 0, 0, 0, 0, 0, 0, 1, 0,\n",
    "       0, 0, 0, 0, 0, 0, 0, 0, 0, 0]), 17: array([0, 0, 0, 0, 0, 0, 0, 0, 0, 0, 0, 0, 0, 0, 0, 0, 0, 0, 0, 0, 0, 0,\n",
    "       0, 0, 0, 0, 0, 0, 0, 0, 0, 0])}\n",
    "]\n",
    "\n",
    "times = [3.5772449980140664]\n",
    "\n",
    "expected = [1 for i in range(n)]"
   ]
  },
  {
   "cell_type": "code",
   "execution_count": 100,
   "metadata": {},
   "outputs": [
    {
     "name": "stdout",
     "output_type": "stream",
     "text": [
      "[[1 0 0 1 1]\n",
      " [1 0 0 0 0]\n",
      " [1 1 0 0 0]\n",
      " [1 0 1 1 0]\n",
      " [0 0 0 0 1]\n",
      " [0 0 0 1 1]\n",
      " [0 1 1 0 0]\n",
      " [1 1 0 0 1]\n",
      " [1 1 0 1 1]\n",
      " [1 0 0 0 0]\n",
      " [0 0 1 0 0]\n",
      " [1 1 1 0 1]\n",
      " [0 0 1 1 1]\n",
      " [1 0 0 1 0]\n",
      " [1 0 1 0 1]\n",
      " [1 0 0 0 1]\n",
      " [1 0 1 0 1]\n",
      " [0 1 0 0 0]\n",
      " [0 0 0 0 1]\n",
      " [0 1 1 1 1]\n",
      " [0 1 0 0 1]\n",
      " [0 1 0 1 0]\n",
      " [1 1 0 0 1]\n",
      " [0 0 0 1 1]\n",
      " [1 1 0 0 0]\n",
      " [1 0 1 0 1]\n",
      " [0 0 0 1 1]\n",
      " [1 0 1 1 1]\n",
      " [0 0 0 0 1]\n",
      " [0 0 1 1 1]\n",
      " [1 1 0 0 1]\n",
      " [1 0 0 1 1]]\n"
     ]
    }
   ],
   "source": [
    "all_results = None\n",
    "\n",
    "for results_raw in results_raws:\n",
    "    results = getResultsArray(n=n, resultsDict=results_raw, Aspen12Q=True)\n",
    "    \n",
    "    if all_results is None:\n",
    "        all_results = results\n",
    "    else:\n",
    "        all_results = np.concatenate((all_results, results), axis=0)\n",
    "        \n",
    "print(all_results)"
   ]
  },
  {
   "cell_type": "code",
   "execution_count": 101,
   "metadata": {},
   "outputs": [
    {
     "name": "stdout",
     "output_type": "stream",
     "text": [
      "Accuracy: 0/32 = 0.0%\n",
      "Most prominent: [0 0 0 0 1]\n"
     ]
    }
   ],
   "source": [
    "acc_ = print_accuracy(all_results, should_be=expected)"
   ]
  },
  {
   "cell_type": "code",
   "execution_count": 102,
   "metadata": {},
   "outputs": [],
   "source": [
    "time_ = np.average(np.array(times))"
   ]
  },
  {
   "cell_type": "code",
   "execution_count": 103,
   "metadata": {},
   "outputs": [
    {
     "name": "stdout",
     "output_type": "stream",
     "text": [
      "Accuracy: 0.0%, Time: 3.5772449980140664\n"
     ]
    }
   ],
   "source": [
    "print('Accuracy: {}%, Time: {}'.format(acc_, time_))\n",
    "qpu_accuracy_s.append(acc_)\n",
    "qpu_time_s.append(time_)"
   ]
  },
  {
   "cell_type": "markdown",
   "metadata": {},
   "source": [
    "## n = 6"
   ]
  },
  {
   "cell_type": "code",
   "execution_count": 104,
   "metadata": {},
   "outputs": [],
   "source": [
    "n = 6"
   ]
  },
  {
   "cell_type": "markdown",
   "metadata": {},
   "source": [
    "### QVM Results"
   ]
  },
  {
   "cell_type": "markdown",
   "metadata": {},
   "source": [
    "##### Complex"
   ]
  },
  {
   "cell_type": "code",
   "execution_count": 105,
   "metadata": {},
   "outputs": [],
   "source": [
    "clear_vars()"
   ]
  },
  {
   "cell_type": "code",
   "execution_count": 106,
   "metadata": {},
   "outputs": [],
   "source": [
    "results_raws = [\n",
    "    {0: array([1, 0, 1, 0, 0, 0, 1, 0, 1, 1, 1, 0, 0, 0, 1, 0, 1, 1, 1, 1, 1, 1,\n",
    "       0, 1, 0, 1, 1, 1, 0, 1, 1, 0, 1, 0, 1, 1, 1, 1, 0, 1, 1, 1, 0, 1,\n",
    "       0, 0, 0, 0, 0, 1, 1, 1, 1, 1, 0, 0, 0, 1, 0, 1, 1, 0, 0, 1]), 1: array([1, 0, 1, 0, 1, 1, 0, 1, 1, 0, 0, 0, 1, 1, 0, 1, 1, 1, 1, 1, 1, 1,\n",
    "       0, 0, 1, 0, 0, 0, 0, 0, 0, 0, 1, 0, 0, 1, 1, 0, 0, 1, 1, 0, 0, 0,\n",
    "       1, 1, 1, 0, 0, 0, 1, 0, 0, 1, 1, 1, 0, 1, 1, 1, 0, 0, 1, 0]), 2: array([0, 1, 1, 0, 0, 0, 1, 1, 0, 0, 1, 1, 1, 1, 0, 1, 1, 1, 0, 1, 0, 0,\n",
    "       1, 0, 1, 1, 0, 1, 0, 1, 0, 1, 0, 0, 1, 0, 0, 1, 0, 1, 1, 0, 0, 1,\n",
    "       1, 0, 0, 1, 1, 1, 0, 1, 1, 1, 1, 1, 1, 1, 0, 1, 0, 1, 0, 1]), 6: array([1, 1, 1, 1, 0, 1, 0, 1, 0, 1, 1, 1, 0, 1, 0, 1, 0, 0, 0, 1, 0, 1,\n",
    "       0, 1, 0, 0, 1, 1, 1, 0, 1, 1, 0, 0, 0, 1, 1, 0, 1, 1, 1, 0, 1, 0,\n",
    "       0, 0, 1, 1, 0, 0, 0, 1, 0, 1, 1, 1, 0, 0, 1, 1, 1, 1, 1, 1]), 7: array([1, 0, 0, 1, 1, 0, 1, 1, 1, 0, 0, 1, 1, 0, 0, 0, 1, 1, 1, 0, 0, 1,\n",
    "       1, 1, 0, 1, 0, 1, 1, 0, 1, 1, 0, 0, 1, 0, 1, 0, 0, 1, 1, 0, 0, 0,\n",
    "       1, 0, 0, 0, 0, 0, 0, 1, 0, 0, 1, 1, 0, 0, 1, 1, 1, 1, 1, 0]), 10: array([1, 0, 0, 0, 0, 1, 0, 1, 1, 1, 1, 0, 1, 1, 0, 0, 0, 1, 1, 1, 1, 0,\n",
    "       0, 1, 1, 1, 1, 0, 1, 0, 0, 1, 0, 1, 1, 1, 1, 1, 1, 1, 0, 1, 1, 1,\n",
    "       0, 0, 0, 1, 0, 1, 0, 0, 0, 1, 1, 1, 1, 0, 1, 1, 1, 0, 1, 0]), 11: array([0, 0, 0, 0, 0, 0, 0, 0, 0, 0, 0, 0, 0, 0, 0, 0, 0, 0, 0, 0, 0, 0,\n",
    "       0, 0, 0, 0, 0, 0, 0, 0, 0, 0, 0, 0, 0, 0, 0, 0, 0, 0, 0, 0, 0, 0,\n",
    "       0, 0, 0, 0, 0, 0, 0, 0, 0, 0, 0, 0, 0, 0, 0, 0, 0, 0, 0, 0]), 13: array([0, 0, 0, 0, 0, 0, 0, 0, 0, 0, 0, 0, 0, 0, 0, 0, 0, 0, 0, 0, 0, 0,\n",
    "       0, 0, 1, 0, 0, 0, 0, 0, 0, 0, 0, 0, 0, 0, 0, 0, 0, 0, 0, 0, 0, 0,\n",
    "       0, 0, 0, 0, 0, 0, 0, 1, 0, 0, 0, 0, 0, 0, 0, 0, 0, 0, 0, 0]), 14: array([1, 1, 0, 0, 0, 0, 0, 1, 1, 0, 1, 0, 1, 1, 0, 1, 0, 0, 0, 1, 1, 0,\n",
    "       0, 0, 1, 0, 0, 0, 1, 0, 0, 1, 1, 0, 0, 1, 1, 1, 0, 0, 1, 0, 0, 1,\n",
    "       1, 0, 1, 0, 1, 1, 1, 0, 1, 1, 1, 0, 0, 1, 0, 1, 1, 0, 0, 1]), 15: array([0, 0, 0, 0, 0, 0, 0, 0, 0, 0, 0, 0, 0, 0, 0, 0, 0, 0, 0, 0, 0, 0,\n",
    "       0, 0, 0, 0, 0, 0, 0, 0, 0, 0, 0, 0, 0, 0, 1, 0, 0, 0, 0, 0, 0, 0,\n",
    "       0, 0, 0, 0, 0, 0, 0, 0, 0, 0, 0, 0, 0, 0, 0, 0, 0, 0, 0, 0]), 16: array([0, 0, 1, 0, 0, 0, 0, 0, 0, 0, 0, 0, 0, 0, 0, 0, 0, 0, 0, 0, 0, 0,\n",
    "       0, 0, 0, 0, 0, 0, 0, 1, 0, 0, 0, 0, 0, 0, 0, 0, 0, 0, 0, 0, 0, 0,\n",
    "       0, 0, 0, 0, 0, 0, 0, 0, 0, 0, 0, 0, 0, 0, 0, 0, 1, 0, 0, 0]), 17: array([1, 0, 0, 0, 1, 1, 0, 0, 1, 1, 1, 0, 0, 0, 0, 1, 1, 1, 1, 0, 0, 0,\n",
    "       1, 1, 0, 1, 1, 1, 1, 1, 1, 0, 1, 1, 1, 1, 0, 0, 0, 1, 0, 0, 1, 1,\n",
    "       0, 1, 0, 1, 0, 0, 1, 1, 0, 1, 0, 1, 1, 1, 0, 1, 1, 1, 0, 1])}\n",
    "]\n",
    "\n",
    "times = [8.372382586996537]\n",
    "\n",
    "expected = [0 for i in range(n)]"
   ]
  },
  {
   "cell_type": "code",
   "execution_count": 107,
   "metadata": {},
   "outputs": [
    {
     "name": "stdout",
     "output_type": "stream",
     "text": [
      "[[1 1 0 1 1 1]\n",
      " [0 0 1 1 0 0]\n",
      " [1 1 1 1 0 0]\n",
      " [0 0 0 1 1 0]\n",
      " [0 1 0 0 1 0]\n",
      " [0 1 0 1 0 1]\n",
      " [1 0 1 0 1 0]\n",
      " [0 1 1 1 1 1]\n",
      " [1 1 0 0 1 1]\n",
      " [1 0 0 1 0 1]\n",
      " [1 0 1 1 0 1]\n",
      " [0 0 1 1 1 0]\n",
      " [0 1 1 0 1 1]\n",
      " [0 1 1 1 0 1]\n",
      " [1 0 0 0 0 0]\n",
      " [0 1 1 1 0 0]\n",
      " [1 1 1 0 1 0]\n",
      " [1 1 1 0 1 1]\n",
      " [1 1 0 0 1 1]\n",
      " [1 1 1 1 0 1]\n",
      " [1 1 0 0 0 1]\n",
      " [1 1 0 1 1 0]\n",
      " [0 0 1 0 1 0]\n",
      " [1 0 0 1 1 1]\n",
      " [0 1 1 0 0 1]\n",
      " [1 0 1 0 1 1]\n",
      " [1 0 0 1 0 1]\n",
      " [1 0 1 1 1 0]\n",
      " [0 0 0 1 1 1]\n",
      " [1 0 1 0 0 0]\n",
      " [1 0 0 1 1 0]\n",
      " [0 0 1 1 1 1]\n",
      " [1 1 0 0 0 0]\n",
      " [0 0 0 0 0 1]\n",
      " [1 0 1 0 1 1]\n",
      " [1 1 0 1 0 1]\n",
      " [1 1 0 1 1 1]\n",
      " [1 0 1 0 0 1]\n",
      " [0 0 0 1 0 1]\n",
      " [1 1 1 1 1 1]\n",
      " [1 1 1 1 1 0]\n",
      " [1 0 0 0 0 1]\n",
      " [0 0 0 1 0 1]\n",
      " [1 0 1 0 0 1]\n",
      " [0 1 1 0 1 0]\n",
      " [0 1 0 0 0 0]\n",
      " [0 1 0 1 0 0]\n",
      " [0 0 1 1 0 1]\n",
      " [0 0 1 0 0 0]\n",
      " [1 0 1 0 0 1]\n",
      " [1 1 0 0 0 0]\n",
      " [1 0 1 1 1 0]\n",
      " [1 0 1 0 0 0]\n",
      " [1 1 1 1 0 1]\n",
      " [0 1 1 1 1 1]\n",
      " [0 1 1 1 1 1]\n",
      " [0 0 1 0 0 1]\n",
      " [1 1 1 0 0 0]\n",
      " [0 1 0 1 1 1]\n",
      " [1 1 1 1 1 1]\n",
      " [1 0 0 1 1 1]\n",
      " [0 0 1 1 1 0]\n",
      " [0 1 0 1 1 1]\n",
      " [1 0 1 1 0 0]]\n"
     ]
    }
   ],
   "source": [
    "all_results = None\n",
    "\n",
    "for results_raw in results_raws:\n",
    "    results = getResultsArray(n=n, resultsDict=results_raw, Aspen12Q=True)\n",
    "    \n",
    "    if all_results is None:\n",
    "        all_results = results\n",
    "    else:\n",
    "        all_results = np.concatenate((all_results, results), axis=0)\n",
    "        \n",
    "print(all_results)"
   ]
  },
  {
   "cell_type": "code",
   "execution_count": 108,
   "metadata": {},
   "outputs": [
    {
     "name": "stdout",
     "output_type": "stream",
     "text": [
      "Accuracy: 0/64 = 0.0%\n",
      "Most prominent: [0 1 1 1 1 1]\n"
     ]
    }
   ],
   "source": [
    "acc_ = print_accuracy(all_results, should_be=expected)"
   ]
  },
  {
   "cell_type": "code",
   "execution_count": 109,
   "metadata": {},
   "outputs": [],
   "source": [
    "time_ = np.average(np.array(times))"
   ]
  },
  {
   "cell_type": "code",
   "execution_count": 110,
   "metadata": {},
   "outputs": [
    {
     "name": "stdout",
     "output_type": "stream",
     "text": [
      "Accuracy: 0.0%, Time: 8.372382586996537\n"
     ]
    }
   ],
   "source": [
    "print('Accuracy: {}%, Time: {}'.format(acc_, time_))\n",
    "qvm_accuracy_c.append(acc_)\n",
    "qvm_time_c.append(time_)"
   ]
  },
  {
   "cell_type": "markdown",
   "metadata": {},
   "source": [
    "##### Simple"
   ]
  },
  {
   "cell_type": "code",
   "execution_count": 111,
   "metadata": {},
   "outputs": [],
   "source": [
    "clear_vars()"
   ]
  },
  {
   "cell_type": "code",
   "execution_count": 112,
   "metadata": {},
   "outputs": [],
   "source": [
    "results_raws = [\n",
    "    {0: array([1, 1, 1, 0, 1, 0, 0, 0, 0, 0, 0, 1, 1, 1, 1, 1, 1, 0, 0, 0, 1, 1,\n",
    "       1, 1, 1, 1, 0, 1, 1, 0, 0, 0, 0, 0, 0, 0, 1, 1, 0, 1, 0, 1, 0, 0,\n",
    "       0, 0, 1, 0, 1, 1, 1, 0, 1, 0, 0, 1, 1, 0, 1, 0, 1, 0, 1, 1]), 1: array([1, 0, 1, 0, 1, 0, 1, 1, 1, 0, 1, 0, 1, 1, 0, 1, 1, 1, 1, 0, 1, 1,\n",
    "       1, 0, 1, 1, 0, 0, 0, 1, 1, 0, 1, 1, 0, 1, 1, 1, 1, 1, 0, 1, 0, 1,\n",
    "       1, 0, 1, 0, 1, 0, 1, 1, 0, 1, 0, 0, 0, 0, 1, 1, 1, 0, 0, 0]), 2: array([1, 0, 1, 1, 0, 1, 1, 0, 0, 0, 1, 0, 0, 0, 1, 0, 0, 1, 0, 1, 0, 0,\n",
    "       1, 1, 1, 1, 0, 1, 1, 0, 0, 1, 1, 0, 0, 0, 1, 1, 0, 0, 0, 0, 1, 0,\n",
    "       0, 0, 1, 1, 0, 1, 1, 0, 1, 0, 1, 1, 1, 0, 1, 1, 1, 1, 0, 0]), 6: array([0, 1, 1, 1, 1, 0, 1, 1, 1, 1, 0, 0, 1, 0, 1, 0, 1, 0, 1, 1, 0, 0,\n",
    "       1, 1, 1, 0, 0, 0, 1, 1, 0, 0, 0, 0, 0, 0, 1, 1, 1, 1, 1, 1, 1, 0,\n",
    "       1, 1, 0, 1, 1, 1, 1, 0, 1, 1, 1, 0, 0, 0, 0, 0, 0, 0, 0, 0]), 7: array([0, 1, 0, 1, 0, 1, 0, 0, 0, 0, 1, 0, 1, 0, 1, 0, 1, 0, 1, 0, 1, 0,\n",
    "       1, 0, 1, 1, 0, 1, 1, 1, 1, 0, 1, 0, 1, 0, 1, 0, 1, 0, 0, 0, 1, 1,\n",
    "       0, 0, 0, 0, 0, 1, 1, 0, 1, 0, 0, 1, 0, 0, 1, 1, 0, 0, 0, 1]), 10: array([1, 1, 1, 0, 0, 1, 1, 0, 1, 0, 0, 1, 0, 1, 0, 0, 1, 0, 0, 0, 1, 1,\n",
    "       1, 1, 1, 1, 0, 0, 0, 0, 1, 1, 0, 0, 0, 0, 1, 0, 1, 0, 1, 0, 1, 1,\n",
    "       1, 1, 0, 0, 1, 1, 1, 1, 1, 0, 0, 0, 0, 0, 1, 1, 0, 1, 0, 1]), 11: array([0, 0, 0, 0, 0, 0, 0, 0, 0, 0, 0, 0, 0, 0, 0, 0, 0, 0, 0, 0, 0, 0,\n",
    "       0, 0, 0, 0, 0, 0, 0, 0, 0, 0, 0, 0, 0, 0, 0, 0, 0, 0, 0, 0, 0, 0,\n",
    "       0, 0, 0, 0, 0, 0, 0, 0, 0, 0, 0, 0, 0, 0, 0, 0, 0, 0, 0, 0]), 13: array([0, 0, 0, 0, 0, 0, 0, 0, 0, 0, 0, 0, 0, 0, 0, 0, 0, 0, 0, 0, 0, 0,\n",
    "       0, 0, 0, 0, 0, 0, 0, 0, 0, 0, 0, 0, 0, 0, 0, 0, 0, 0, 0, 0, 0, 0,\n",
    "       0, 0, 0, 0, 0, 0, 0, 0, 0, 0, 0, 0, 0, 0, 0, 0, 0, 0, 0, 0]), 14: array([0, 0, 0, 0, 0, 0, 0, 0, 0, 0, 0, 0, 0, 0, 0, 0, 0, 0, 0, 0, 0, 0,\n",
    "       0, 0, 0, 0, 0, 0, 0, 0, 0, 0, 0, 0, 0, 0, 0, 0, 0, 0, 0, 0, 0, 0,\n",
    "       0, 0, 0, 0, 0, 0, 0, 0, 0, 0, 0, 0, 0, 0, 0, 0, 0, 0, 0, 0]), 15: array([0, 0, 0, 0, 0, 0, 0, 0, 0, 0, 0, 0, 0, 0, 0, 0, 0, 0, 0, 0, 0, 0,\n",
    "       0, 0, 0, 0, 0, 0, 0, 0, 0, 0, 0, 0, 0, 0, 0, 0, 0, 0, 0, 0, 0, 0,\n",
    "       0, 0, 0, 0, 0, 0, 0, 0, 0, 0, 0, 0, 0, 0, 0, 0, 0, 0, 0, 0]), 16: array([0, 0, 0, 0, 0, 0, 0, 0, 0, 0, 0, 0, 0, 0, 0, 0, 0, 0, 0, 0, 0, 0,\n",
    "       0, 0, 0, 0, 0, 0, 0, 0, 0, 0, 0, 0, 0, 0, 0, 0, 0, 0, 0, 0, 0, 0,\n",
    "       0, 0, 0, 0, 0, 0, 0, 0, 0, 0, 0, 0, 0, 0, 0, 0, 0, 0, 0, 0]), 17: array([0, 0, 0, 0, 0, 0, 0, 0, 0, 0, 0, 0, 0, 0, 0, 0, 0, 0, 0, 0, 0, 0,\n",
    "       0, 0, 0, 0, 0, 0, 0, 0, 0, 0, 0, 0, 0, 0, 0, 0, 0, 0, 0, 0, 0, 0,\n",
    "       0, 0, 0, 0, 0, 0, 0, 0, 0, 0, 0, 0, 0, 0, 0, 0, 0, 0, 0, 0])}\n",
    "]\n",
    "\n",
    "times = [29.911805313982768]\n",
    "\n",
    "expected = [1 for i in range(n)]"
   ]
  },
  {
   "cell_type": "code",
   "execution_count": 113,
   "metadata": {},
   "outputs": [
    {
     "name": "stdout",
     "output_type": "stream",
     "text": [
      "[[1 1 1 0 0 1]\n",
      " [1 0 0 1 1 1]\n",
      " [1 1 1 1 0 1]\n",
      " [0 0 1 1 1 0]\n",
      " [1 1 0 1 0 0]\n",
      " [0 0 1 0 1 1]\n",
      " [0 1 1 1 0 1]\n",
      " [0 1 0 1 0 0]\n",
      " [0 1 0 1 0 1]\n",
      " [0 0 0 1 0 0]\n",
      " [0 1 1 0 1 0]\n",
      " [1 0 0 0 0 1]\n",
      " [1 1 0 1 1 0]\n",
      " [1 1 0 0 0 1]\n",
      " [1 0 1 1 1 0]\n",
      " [1 1 0 0 0 0]\n",
      " [1 1 0 1 1 1]\n",
      " [0 1 1 0 0 0]\n",
      " [0 1 0 1 1 0]\n",
      " [0 0 1 1 0 0]\n",
      " [1 1 0 0 1 1]\n",
      " [1 1 0 0 0 1]\n",
      " [1 1 1 1 1 1]\n",
      " [1 0 1 1 0 1]\n",
      " [1 1 1 1 1 1]\n",
      " [1 1 1 0 1 1]\n",
      " [0 0 0 0 0 0]\n",
      " [1 0 1 0 1 0]\n",
      " [1 0 1 1 1 0]\n",
      " [0 1 0 1 1 0]\n",
      " [0 1 0 0 1 1]\n",
      " [0 0 1 0 0 1]\n",
      " [0 1 1 0 1 0]\n",
      " [0 1 0 0 0 0]\n",
      " [0 0 0 0 1 0]\n",
      " [0 1 0 0 0 0]\n",
      " [1 1 1 1 1 1]\n",
      " [1 1 1 1 0 0]\n",
      " [0 1 0 1 1 1]\n",
      " [1 1 0 1 0 0]\n",
      " [0 0 0 1 0 1]\n",
      " [1 1 0 1 0 0]\n",
      " [0 0 1 1 1 1]\n",
      " [0 1 0 0 1 1]\n",
      " [0 1 0 1 0 1]\n",
      " [0 0 0 1 0 1]\n",
      " [1 1 1 0 0 0]\n",
      " [0 0 1 1 0 0]\n",
      " [1 1 0 1 0 1]\n",
      " [1 0 1 1 1 1]\n",
      " [1 1 1 1 1 1]\n",
      " [0 1 0 0 0 1]\n",
      " [1 0 1 1 1 1]\n",
      " [0 1 0 1 0 0]\n",
      " [0 0 1 1 0 0]\n",
      " [1 0 1 0 1 0]\n",
      " [1 0 1 0 0 0]\n",
      " [0 0 0 0 0 0]\n",
      " [1 1 1 0 1 1]\n",
      " [0 1 1 0 1 1]\n",
      " [1 1 1 0 0 0]\n",
      " [0 0 1 0 0 1]\n",
      " [1 0 0 0 0 0]\n",
      " [1 0 0 0 1 1]]\n"
     ]
    }
   ],
   "source": [
    "all_results = None\n",
    "\n",
    "for results_raw in results_raws:\n",
    "    results = getResultsArray(n=n, resultsDict=results_raw, Aspen12Q=True)\n",
    "    \n",
    "    if all_results is None:\n",
    "        all_results = results\n",
    "    else:\n",
    "        all_results = np.concatenate((all_results, results), axis=0)\n",
    "        \n",
    "print(all_results)"
   ]
  },
  {
   "cell_type": "code",
   "execution_count": 114,
   "metadata": {},
   "outputs": [
    {
     "name": "stdout",
     "output_type": "stream",
     "text": [
      "Accuracy: 4/64 = 6.25%\n",
      "Most prominent: [1 1 1 1 1 1]\n"
     ]
    }
   ],
   "source": [
    "acc_ = print_accuracy(all_results, should_be=expected)"
   ]
  },
  {
   "cell_type": "code",
   "execution_count": 115,
   "metadata": {},
   "outputs": [],
   "source": [
    "time_ = np.average(np.array(times))"
   ]
  },
  {
   "cell_type": "code",
   "execution_count": 116,
   "metadata": {},
   "outputs": [
    {
     "name": "stdout",
     "output_type": "stream",
     "text": [
      "Accuracy: 6.25%, Time: 29.911805313982768\n"
     ]
    }
   ],
   "source": [
    "print('Accuracy: {}%, Time: {}'.format(acc_, time_))\n",
    "qvm_accuracy_s.append(acc_)\n",
    "qvm_time_s.append(time_)"
   ]
  },
  {
   "cell_type": "markdown",
   "metadata": {},
   "source": [
    "### QPU Results"
   ]
  },
  {
   "cell_type": "markdown",
   "metadata": {},
   "source": [
    "##### Complex"
   ]
  },
  {
   "cell_type": "code",
   "execution_count": 117,
   "metadata": {},
   "outputs": [],
   "source": [
    "clear_vars()"
   ]
  },
  {
   "cell_type": "code",
   "execution_count": 118,
   "metadata": {},
   "outputs": [],
   "source": [
    "results_raws = [\n",
    "    {0: array([1, 1, 0, 1, 1, 0, 0, 0, 1, 1, 0, 0, 1, 1, 1, 0, 1, 1, 1, 1, 0, 1,\n",
    "       0, 1, 1, 1, 0, 1, 1, 1, 1, 1, 1, 0, 0, 1, 0, 1, 1, 1, 1, 0, 0, 0,\n",
    "       1, 1, 1, 1, 1, 1, 0, 1, 0, 1, 0, 1, 0, 1, 1, 0, 0, 0, 0, 1]), 1: array([1, 1, 1, 0, 1, 0, 0, 0, 0, 0, 1, 0, 1, 1, 1, 1, 1, 1, 1, 1, 1, 0,\n",
    "       0, 0, 0, 0, 0, 1, 1, 0, 0, 0, 0, 0, 0, 0, 0, 1, 1, 1, 1, 1, 1, 1,\n",
    "       0, 0, 0, 0, 1, 0, 0, 0, 1, 0, 0, 1, 1, 1, 0, 0, 1, 0, 1, 0]), 2: array([0, 0, 1, 1, 0, 0, 0, 0, 1, 0, 1, 1, 1, 1, 0, 1, 1, 1, 0, 0, 1, 1,\n",
    "       1, 1, 1, 0, 1, 0, 0, 1, 0, 1, 1, 0, 1, 1, 1, 0, 0, 0, 0, 0, 1, 1,\n",
    "       0, 1, 0, 1, 1, 1, 0, 1, 1, 1, 0, 0, 1, 1, 0, 1, 1, 0, 0, 1]), 6: array([1, 1, 0, 1, 1, 0, 0, 0, 1, 1, 1, 0, 1, 0, 0, 1, 0, 1, 1, 0, 0, 1,\n",
    "       1, 1, 0, 1, 0, 1, 0, 1, 0, 0, 1, 0, 0, 1, 1, 0, 1, 0, 0, 1, 0, 0,\n",
    "       0, 1, 0, 0, 1, 1, 1, 0, 1, 0, 0, 0, 1, 0, 1, 0, 0, 0, 1, 1]), 7: array([1, 0, 1, 0, 0, 1, 1, 0, 1, 1, 1, 0, 0, 1, 0, 1, 1, 1, 1, 0, 1, 1,\n",
    "       1, 0, 0, 1, 0, 0, 1, 0, 0, 0, 0, 0, 0, 1, 1, 1, 1, 1, 0, 0, 1, 0,\n",
    "       0, 0, 1, 1, 0, 1, 1, 1, 0, 0, 0, 0, 0, 0, 1, 1, 0, 0, 0, 1]), 10: array([1, 1, 1, 0, 1, 1, 1, 1, 1, 1, 1, 0, 0, 0, 1, 0, 1, 0, 0, 1, 1, 0,\n",
    "       1, 0, 0, 0, 1, 0, 1, 1, 0, 0, 1, 1, 1, 0, 0, 1, 0, 1, 1, 0, 0, 0,\n",
    "       1, 0, 0, 0, 0, 0, 0, 1, 0, 1, 0, 1, 1, 1, 0, 1, 0, 1, 0, 1]), 11: array([0, 0, 0, 0, 0, 0, 0, 0, 0, 0, 0, 0, 0, 0, 0, 0, 0, 0, 0, 0, 0, 0,\n",
    "       0, 0, 0, 0, 0, 0, 0, 0, 0, 0, 0, 0, 0, 0, 0, 0, 0, 0, 0, 0, 0, 0,\n",
    "       0, 0, 0, 0, 0, 0, 0, 0, 0, 0, 0, 0, 0, 1, 0, 0, 0, 0, 0, 0]), 13: array([0, 0, 0, 0, 0, 0, 0, 0, 0, 0, 0, 0, 0, 0, 0, 0, 0, 0, 0, 0, 0, 0,\n",
    "       0, 0, 0, 0, 0, 1, 0, 0, 0, 0, 0, 0, 0, 0, 0, 0, 0, 0, 0, 0, 0, 0,\n",
    "       0, 0, 0, 0, 0, 0, 0, 0, 0, 0, 0, 0, 0, 0, 0, 0, 0, 0, 0, 0]), 14: array([1, 0, 0, 1, 0, 0, 1, 0, 0, 0, 0, 1, 1, 1, 1, 0, 0, 0, 1, 0, 0, 1,\n",
    "       1, 0, 1, 1, 1, 0, 0, 1, 1, 0, 0, 0, 1, 0, 0, 0, 1, 0, 0, 1, 1, 1,\n",
    "       0, 0, 0, 0, 0, 1, 1, 0, 0, 1, 1, 0, 1, 0, 0, 1, 1, 0, 0, 1]), 15: array([0, 0, 0, 0, 0, 0, 0, 0, 0, 0, 0, 0, 0, 0, 0, 0, 0, 0, 0, 0, 0, 0,\n",
    "       0, 0, 0, 0, 0, 0, 0, 0, 0, 0, 0, 0, 0, 0, 0, 0, 0, 0, 0, 0, 0, 0,\n",
    "       0, 0, 0, 0, 0, 0, 0, 0, 0, 0, 0, 0, 0, 0, 0, 0, 0, 0, 0, 0]), 16: array([0, 0, 0, 0, 0, 0, 0, 0, 1, 0, 0, 0, 0, 0, 0, 0, 0, 0, 0, 0, 0, 0,\n",
    "       0, 0, 0, 0, 0, 0, 0, 0, 0, 0, 0, 0, 0, 0, 0, 0, 1, 0, 0, 0, 0, 0,\n",
    "       0, 0, 0, 0, 0, 0, 1, 0, 0, 0, 0, 0, 0, 0, 0, 0, 0, 0, 0, 0]), 17: array([0, 0, 1, 1, 0, 1, 1, 0, 0, 1, 1, 0, 0, 1, 1, 0, 1, 1, 1, 1, 0, 1,\n",
    "       1, 1, 1, 0, 1, 1, 1, 0, 1, 1, 1, 0, 1, 0, 1, 0, 1, 1, 1, 1, 0, 1,\n",
    "       0, 1, 1, 0, 1, 1, 0, 1, 1, 0, 1, 0, 1, 1, 0, 0, 1, 1, 0, 1])}\n",
    "]\n",
    "\n",
    "times = [8.192719826998655]\n",
    "\n",
    "expected = [0 for i in range(n)]"
   ]
  },
  {
   "cell_type": "code",
   "execution_count": 119,
   "metadata": {},
   "outputs": [
    {
     "name": "stdout",
     "output_type": "stream",
     "text": [
      "[[1 1 0 1 1 1]\n",
      " [1 1 0 1 0 1]\n",
      " [0 1 1 0 1 1]\n",
      " [1 0 1 1 0 0]\n",
      " [1 1 0 1 0 1]\n",
      " [0 0 0 0 1 1]\n",
      " [0 0 0 0 1 1]\n",
      " [0 0 0 0 0 1]\n",
      " [1 0 1 1 1 1]\n",
      " [1 0 0 1 1 1]\n",
      " [0 1 1 1 1 1]\n",
      " [0 0 1 0 0 0]\n",
      " [1 1 1 1 0 0]\n",
      " [1 1 1 0 1 0]\n",
      " [1 1 0 0 0 1]\n",
      " [0 1 1 1 1 0]\n",
      " [1 1 1 0 1 1]\n",
      " [1 1 1 1 1 0]\n",
      " [1 1 0 1 1 0]\n",
      " [1 1 0 0 0 1]\n",
      " [0 1 1 0 1 1]\n",
      " [1 0 1 1 1 0]\n",
      " [0 0 1 1 1 1]\n",
      " [1 0 1 1 0 0]\n",
      " [1 0 1 0 0 0]\n",
      " [1 0 0 1 1 0]\n",
      " [0 0 1 0 0 1]\n",
      " [1 1 0 1 0 0]\n",
      " [1 1 0 0 1 1]\n",
      " [1 0 1 1 0 1]\n",
      " [1 0 0 0 0 0]\n",
      " [1 0 1 0 0 0]\n",
      " [1 0 1 1 0 1]\n",
      " [0 0 0 0 0 1]\n",
      " [0 0 1 0 0 1]\n",
      " [1 0 1 1 1 0]\n",
      " [0 0 1 1 1 0]\n",
      " [1 1 0 0 1 1]\n",
      " [1 1 0 1 1 0]\n",
      " [1 1 0 0 1 1]\n",
      " [1 1 0 0 0 1]\n",
      " [0 1 0 1 0 0]\n",
      " [0 1 1 0 1 0]\n",
      " [0 1 1 0 0 0]\n",
      " [1 0 0 0 0 1]\n",
      " [1 0 1 1 0 0]\n",
      " [1 0 0 0 1 0]\n",
      " [1 0 1 0 1 0]\n",
      " [1 1 1 1 0 0]\n",
      " [1 0 1 1 1 0]\n",
      " [0 0 0 1 1 0]\n",
      " [1 0 1 0 1 1]\n",
      " [0 1 1 1 0 0]\n",
      " [1 0 1 0 0 1]\n",
      " [0 0 0 0 0 0]\n",
      " [1 1 0 0 0 1]\n",
      " [0 1 1 1 0 1]\n",
      " [1 1 1 0 0 1]\n",
      " [1 0 0 1 1 0]\n",
      " [0 0 1 0 1 1]\n",
      " [0 1 1 0 0 0]\n",
      " [0 0 0 0 0 1]\n",
      " [0 1 0 1 0 0]\n",
      " [1 0 1 1 1 1]]\n"
     ]
    }
   ],
   "source": [
    "all_results = None\n",
    "\n",
    "for results_raw in results_raws:\n",
    "    results = getResultsArray(n=n, resultsDict=results_raw, Aspen12Q=True)\n",
    "    \n",
    "    if all_results is None:\n",
    "        all_results = results\n",
    "    else:\n",
    "        all_results = np.concatenate((all_results, results), axis=0)\n",
    "        \n",
    "print(all_results)"
   ]
  },
  {
   "cell_type": "code",
   "execution_count": 120,
   "metadata": {},
   "outputs": [
    {
     "name": "stdout",
     "output_type": "stream",
     "text": [
      "Accuracy: 1/64 = 1.5625%\n",
      "Most prominent: [1 1 0 0 0 1]\n"
     ]
    }
   ],
   "source": [
    "acc_ = print_accuracy(all_results, should_be=expected)"
   ]
  },
  {
   "cell_type": "code",
   "execution_count": 121,
   "metadata": {},
   "outputs": [],
   "source": [
    "time_ = np.average(np.array(times))"
   ]
  },
  {
   "cell_type": "code",
   "execution_count": 122,
   "metadata": {},
   "outputs": [
    {
     "name": "stdout",
     "output_type": "stream",
     "text": [
      "Accuracy: 1.5625%, Time: 8.192719826998655\n"
     ]
    }
   ],
   "source": [
    "print('Accuracy: {}%, Time: {}'.format(acc_, time_))\n",
    "qpu_accuracy_c.append(acc_)\n",
    "qpu_time_c.append(time_)"
   ]
  },
  {
   "cell_type": "markdown",
   "metadata": {},
   "source": [
    "##### Simple"
   ]
  },
  {
   "cell_type": "code",
   "execution_count": 123,
   "metadata": {},
   "outputs": [],
   "source": [
    "clear_vars()"
   ]
  },
  {
   "cell_type": "code",
   "execution_count": 124,
   "metadata": {},
   "outputs": [],
   "source": [
    "results_raws = [\n",
    "    {0: array([1, 0, 1, 1, 1, 1, 0, 1, 1, 0, 0, 1, 0, 0, 0, 0, 0, 0, 0, 0, 1, 1,\n",
    "       1, 0, 1, 1, 1, 1, 0, 1, 1, 0, 1, 0, 1, 0, 0, 0, 0, 0, 1, 1, 0, 1,\n",
    "       0, 0, 1, 1, 0, 1, 0, 0, 0, 0, 0, 0, 1, 0, 0, 0, 1, 1, 0, 0]), 1: array([0, 1, 1, 1, 0, 1, 0, 0, 1, 0, 0, 1, 0, 1, 0, 0, 0, 1, 0, 0, 0, 0,\n",
    "       1, 0, 1, 0, 0, 1, 0, 0, 0, 1, 1, 0, 0, 1, 0, 0, 0, 0, 0, 1, 0, 1,\n",
    "       1, 0, 0, 0, 0, 1, 1, 1, 0, 0, 0, 0, 1, 0, 1, 0, 1, 1, 1, 1]), 2: array([0, 1, 0, 1, 0, 1, 0, 0, 1, 1, 0, 0, 0, 0, 0, 0, 0, 0, 1, 0, 0, 0,\n",
    "       0, 0, 1, 1, 0, 1, 0, 0, 0, 0, 0, 0, 0, 1, 0, 0, 1, 1, 1, 0, 1, 1,\n",
    "       0, 0, 1, 0, 1, 0, 0, 0, 0, 0, 1, 0, 0, 0, 0, 0, 0, 0, 1, 0]), 6: array([1, 0, 1, 1, 1, 0, 1, 0, 1, 0, 1, 1, 0, 0, 1, 0, 0, 0, 1, 0, 1, 1,\n",
    "       1, 1, 0, 1, 0, 0, 0, 0, 0, 1, 0, 1, 0, 0, 0, 1, 1, 1, 1, 0, 1, 1,\n",
    "       0, 0, 1, 0, 0, 0, 1, 1, 1, 1, 1, 1, 1, 1, 1, 0, 1, 1, 1, 1]), 7: array([0, 1, 0, 0, 0, 1, 1, 1, 0, 1, 0, 0, 1, 1, 0, 0, 0, 0, 0, 1, 1, 1,\n",
    "       1, 0, 1, 0, 0, 0, 1, 0, 0, 1, 0, 1, 0, 1, 0, 1, 1, 1, 1, 0, 0, 0,\n",
    "       0, 1, 1, 1, 1, 0, 1, 0, 0, 0, 1, 1, 0, 0, 0, 1, 1, 0, 0, 0]), 10: array([0, 1, 1, 1, 1, 1, 0, 1, 1, 1, 1, 1, 1, 1, 0, 1, 0, 1, 1, 0, 1, 1,\n",
    "       0, 0, 1, 0, 1, 0, 1, 1, 1, 0, 0, 0, 0, 1, 0, 1, 0, 0, 0, 0, 1, 1,\n",
    "       0, 0, 1, 1, 0, 0, 1, 1, 1, 0, 1, 1, 1, 1, 0, 0, 1, 0, 0, 0]), 11: array([0, 0, 0, 0, 0, 0, 0, 0, 0, 0, 0, 0, 0, 0, 0, 0, 0, 0, 0, 0, 0, 0,\n",
    "       0, 0, 0, 0, 0, 0, 0, 0, 1, 0, 0, 0, 0, 0, 0, 0, 0, 0, 0, 0, 0, 0,\n",
    "       0, 0, 0, 0, 0, 0, 0, 0, 0, 0, 0, 0, 0, 0, 0, 0, 0, 0, 0, 0]), 13: array([0, 0, 0, 0, 0, 0, 0, 0, 0, 0, 0, 0, 0, 0, 0, 0, 0, 0, 0, 0, 0, 1,\n",
    "       0, 1, 0, 0, 0, 0, 0, 0, 0, 0, 0, 0, 0, 0, 0, 0, 0, 0, 0, 0, 0, 0,\n",
    "       0, 0, 0, 0, 0, 0, 0, 0, 0, 0, 0, 0, 0, 0, 0, 0, 0, 0, 0, 0]), 14: array([1, 0, 0, 1, 0, 1, 1, 0, 0, 0, 1, 0, 0, 1, 0, 0, 1, 1, 1, 0, 1, 0,\n",
    "       0, 1, 1, 0, 1, 1, 1, 0, 1, 1, 1, 1, 1, 0, 1, 0, 0, 0, 1, 1, 0, 0,\n",
    "       0, 0, 0, 0, 1, 0, 1, 1, 0, 0, 1, 1, 1, 0, 1, 1, 1, 0, 1, 1]), 15: array([0, 0, 0, 0, 0, 0, 0, 0, 0, 0, 0, 0, 0, 0, 0, 0, 0, 0, 0, 1, 0, 0,\n",
    "       0, 0, 0, 0, 0, 0, 0, 0, 0, 0, 0, 0, 0, 0, 0, 0, 0, 0, 0, 0, 0, 0,\n",
    "       0, 0, 0, 0, 0, 0, 0, 0, 0, 0, 0, 0, 0, 0, 0, 0, 0, 0, 0, 0]), 16: array([0, 0, 0, 0, 0, 0, 0, 0, 0, 0, 0, 1, 0, 0, 0, 0, 0, 0, 0, 0, 0, 0,\n",
    "       0, 0, 0, 0, 0, 0, 0, 0, 0, 0, 1, 0, 0, 0, 0, 0, 1, 0, 0, 0, 0, 0,\n",
    "       0, 0, 1, 0, 0, 0, 0, 0, 0, 0, 0, 0, 0, 0, 0, 0, 0, 0, 0, 0]), 17: array([0, 1, 1, 1, 0, 1, 0, 1, 1, 1, 0, 1, 1, 0, 0, 1, 0, 1, 1, 1, 1, 1,\n",
    "       1, 1, 1, 1, 1, 1, 1, 0, 0, 0, 0, 1, 0, 1, 1, 1, 1, 1, 1, 0, 1, 1,\n",
    "       1, 1, 1, 1, 0, 1, 1, 1, 1, 1, 0, 1, 1, 0, 0, 0, 1, 1, 1, 1])}\n",
    "]\n",
    "\n",
    "times = [7.992328174004797]\n",
    "\n",
    "expected = [1 for i in range(n)]"
   ]
  },
  {
   "cell_type": "code",
   "execution_count": 125,
   "metadata": {},
   "outputs": [
    {
     "name": "stdout",
     "output_type": "stream",
     "text": [
      "[[1 0 0 1 0 0]\n",
      " [0 1 1 0 1 1]\n",
      " [1 1 0 1 0 1]\n",
      " [1 1 1 1 0 1]\n",
      " [1 0 0 1 0 1]\n",
      " [1 1 1 0 1 1]\n",
      " [0 0 0 1 1 0]\n",
      " [1 0 0 0 1 1]\n",
      " [1 1 1 1 0 1]\n",
      " [0 0 1 0 1 1]\n",
      " [0 0 0 1 0 1]\n",
      " [1 1 0 1 0 1]\n",
      " [0 0 0 0 1 1]\n",
      " [0 1 0 0 1 1]\n",
      " [0 0 0 1 0 0]\n",
      " [0 0 0 0 0 1]\n",
      " [0 0 0 0 0 0]\n",
      " [0 1 0 0 0 1]\n",
      " [0 0 1 1 0 1]\n",
      " [0 0 0 0 1 0]\n",
      " [1 0 0 1 1 1]\n",
      " [1 0 0 1 1 1]\n",
      " [1 1 0 1 1 0]\n",
      " [0 0 0 1 0 0]\n",
      " [1 1 1 0 1 1]\n",
      " [1 0 1 1 0 0]\n",
      " [1 0 0 0 0 1]\n",
      " [1 1 1 0 0 0]\n",
      " [0 0 0 0 1 1]\n",
      " [1 0 0 0 0 1]\n",
      " [1 0 0 0 0 1]\n",
      " [0 1 0 1 1 0]\n",
      " [1 1 0 0 0 0]\n",
      " [0 0 0 1 1 0]\n",
      " [1 0 0 0 0 0]\n",
      " [0 1 1 0 1 1]\n",
      " [0 0 0 0 0 0]\n",
      " [0 0 0 1 1 1]\n",
      " [0 0 1 1 1 0]\n",
      " [0 0 1 1 1 0]\n",
      " [1 0 1 1 1 0]\n",
      " [1 1 0 0 0 0]\n",
      " [0 0 1 1 0 1]\n",
      " [1 1 1 1 0 1]\n",
      " [0 1 0 0 0 0]\n",
      " [0 0 0 0 1 0]\n",
      " [1 0 1 1 1 1]\n",
      " [1 0 0 0 1 1]\n",
      " [0 0 1 0 1 0]\n",
      " [1 1 0 0 0 0]\n",
      " [0 1 0 1 1 1]\n",
      " [0 1 0 1 0 1]\n",
      " [0 0 0 1 0 1]\n",
      " [0 0 0 1 0 0]\n",
      " [0 0 1 1 1 1]\n",
      " [0 0 0 1 1 1]\n",
      " [1 1 0 1 0 1]\n",
      " [0 0 0 1 0 1]\n",
      " [0 1 0 1 0 0]\n",
      " [0 0 0 0 1 0]\n",
      " [1 1 0 1 1 1]\n",
      " [1 1 0 1 0 0]\n",
      " [0 1 1 1 0 0]\n",
      " [0 1 0 1 0 0]]\n"
     ]
    }
   ],
   "source": [
    "all_results = None\n",
    "\n",
    "for results_raw in results_raws:\n",
    "    results = getResultsArray(n=n, resultsDict=results_raw, Aspen12Q=True)\n",
    "    \n",
    "    if all_results is None:\n",
    "        all_results = results\n",
    "    else:\n",
    "        all_results = np.concatenate((all_results, results), axis=0)\n",
    "        \n",
    "print(all_results)"
   ]
  },
  {
   "cell_type": "code",
   "execution_count": 126,
   "metadata": {},
   "outputs": [
    {
     "name": "stdout",
     "output_type": "stream",
     "text": [
      "Accuracy: 0/64 = 0.0%\n",
      "Most prominent: [0 0 0 0 1 0]\n"
     ]
    }
   ],
   "source": [
    "acc_ = print_accuracy(all_results, should_be=expected)"
   ]
  },
  {
   "cell_type": "code",
   "execution_count": 127,
   "metadata": {},
   "outputs": [],
   "source": [
    "time_ = np.average(np.array(times))"
   ]
  },
  {
   "cell_type": "code",
   "execution_count": 128,
   "metadata": {},
   "outputs": [
    {
     "name": "stdout",
     "output_type": "stream",
     "text": [
      "Accuracy: 0.0%, Time: 7.992328174004797\n"
     ]
    }
   ],
   "source": [
    "print('Accuracy: {}%, Time: {}'.format(acc_, time_))\n",
    "qpu_accuracy_s.append(acc_)\n",
    "qpu_time_s.append(time_)"
   ]
  },
  {
   "cell_type": "markdown",
   "metadata": {},
   "source": [
    "## Plot the times and accuracies"
   ]
  },
  {
   "cell_type": "markdown",
   "metadata": {},
   "source": [
    "### Times"
   ]
  },
  {
   "cell_type": "code",
   "execution_count": null,
   "metadata": {},
   "outputs": [],
   "source": []
  }
 ],
 "metadata": {
  "kernelspec": {
   "display_name": "Python 3",
   "language": "python",
   "name": "python3"
  },
  "language_info": {
   "codemirror_mode": {
    "name": "ipython",
    "version": 3
   },
   "file_extension": ".py",
   "mimetype": "text/x-python",
   "name": "python",
   "nbconvert_exporter": "python",
   "pygments_lexer": "ipython3",
   "version": "3.5.4"
  }
 },
 "nbformat": 4,
 "nbformat_minor": 2
}
